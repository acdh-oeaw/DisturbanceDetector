{
 "cells": [
  {
   "cell_type": "markdown",
   "metadata": {
    "id": "SsJE8TvhGtcp"
   },
   "source": [
    "## **Import libraries and packages**"
   ]
  },
  {
   "cell_type": "code",
   "execution_count": 2,
   "metadata": {
    "id": "At1vu_U73uBx"
   },
   "outputs": [],
   "source": [
    "# %tensorflow_version 2.x\n",
    "\n",
    "# import tensorflow and tensorflow.keras\n",
    "import tensorflow as tf\n",
    "from tensorflow import keras\n",
    "from tensorflow.keras import backend as K\n",
    "\n",
    "# import ImageDataGenerator and the related functions required for processing images\n",
    "from tensorflow.keras.preprocessing.image import ImageDataGenerator, img_to_array, load_img\n",
    "from tensorflow.keras.layers import Input, Dense, Dropout, BatchNormalization, GlobalAveragePooling2D\n",
    "\n",
    "# import optimizers\n",
    "from tensorflow.keras.optimizers import SGD, Adam, Adagrad, Adadelta, RMSprop\n",
    "\n",
    "# import statements for building and loading the model\n",
    "from tensorflow.keras import models\n",
    "from tensorflow.keras.models import Sequential, Model, load_model\n",
    "from tensorflow.keras.models import model_from_json\n",
    "\n",
    "# import statements for callbacks\n",
    "from tensorflow.keras.callbacks import ReduceLROnPlateau, ModelCheckpoint, EarlyStopping\n",
    "\n",
    "# import statements for initlializers and regularizers\n",
    "from tensorflow.keras.initializers import glorot_uniform\n",
    "from tensorflow.keras.regularizers import l2\n",
    "\n",
    "# import statements for one-hot encoding, model plotting\n",
    "from tensorflow.keras.utils import to_categorical, plot_model\n",
    "\n",
    "# import statements for loading ResNet50 from keras\n",
    "from tensorflow.keras.applications import inception_v3\n",
    "#from tensorflow.keras.applications.resnet50 import ResNet50\n",
    "#from tensorflow.keras.applications.resnet50 import preprocess_input\n",
    "\n",
    "# import statements for scikit-learn\n",
    "import sklearn.metrics as metrics\n",
    "from sklearn.preprocessing import LabelBinarizer\n",
    "from sklearn.model_selection import train_test_split\n",
    "from sklearn.metrics import classification_report, accuracy_score, confusion_matrix\n",
    "\n",
    "from tensorflow.keras.layers.experimental import preprocessing\n",
    "\n",
    "# import scipy\n",
    "import scipy.misc\n",
    "\n",
    "# import os for file access\n",
    "import os \n",
    "\n",
    "# import glob\n",
    "import glob\n",
    "\n",
    "# import numpy, pandas\n",
    "import numpy as np\n",
    "import pandas as pd\n",
    "\n",
    "# import opencv\n",
    "import cv2\n",
    "\n",
    "# import matplotlib\n",
    "import matplotlib.pyplot as plt\n",
    "from matplotlib.pyplot import imshow\n",
    "\n",
    "# import zipfile for unzipping the data\n",
    "import zipfile\n",
    "\n",
    "# import csv to access the csv files\n",
    "import csv\n",
    "\n",
    "# import seaborn\n",
    "import seaborn as sns\n",
    "\n",
    "# import time\n",
    "from time import time"
   ]
  },
  {
   "cell_type": "code",
   "execution_count": 3,
   "metadata": {
    "id": "eD1QmYLWJZWc"
   },
   "outputs": [],
   "source": [
    "from PIL import ImageFile\n",
    "ImageFile.LOAD_TRUNCATED_IMAGES = True"
   ]
  },
  {
   "cell_type": "markdown",
   "metadata": {
    "id": "OMts3IveG21y"
   },
   "source": [
    "## **Load the dataset**"
   ]
  },
  {
   "cell_type": "code",
   "execution_count": 7,
   "metadata": {
    "id": "0slwNdMNSb4P"
   },
   "outputs": [],
   "source": [
    "train_dir = '../data/training_data/'\n",
    "val_dir = '../data/validation_data/'\n",
    "test_dir = '../data/testing_data/'"
   ]
  },
  {
   "cell_type": "markdown",
   "metadata": {
    "id": "sKi2HCldG8Mb"
   },
   "source": [
    "## **Data Augmentation**"
   ]
  },
  {
   "cell_type": "code",
   "execution_count": 8,
   "metadata": {
    "id": "0oEIjURHTVMX"
   },
   "outputs": [],
   "source": [
    "training_batch_size = 16\n",
    "validation_batch_size = 16\n",
    "def get_images(img_size, preprocessing):\n",
    "\n",
    "  \n",
    "  train_datagen = ImageDataGenerator(rotation_range=20,\n",
    "                              horizontal_flip= True,\n",
    "                              height_shift_range=0.1,\n",
    "                              width_shift_range=0.1,\n",
    "                              shear_range=0.2,\n",
    "                              zoom_range=0.2,\n",
    "                              fill_mode=\"nearest\",\n",
    "                              preprocessing_function = preprocessing)\n",
    "  \n",
    "  datagen = ImageDataGenerator(preprocessing_function= preprocessing)\n",
    "  \n",
    "  train_datagen = train_datagen.flow_from_directory(train_dir,\n",
    "                                            batch_size= training_batch_size,\n",
    "                                            shuffle= True,\n",
    "                                            target_size = (img_size, img_size),\n",
    "                                            classes = ['Disturbed', 'Undisturbed'])\n",
    "  \n",
    "  val_datagen = datagen.flow_from_directory(val_dir,\n",
    "                                            batch_size= validation_batch_size,\n",
    "                                            shuffle= False,\n",
    "                                            target_size = (img_size, img_size),\n",
    "                                            classes = ['Disturbed', 'Undisturbed'])\n",
    "  \n",
    "  test_datagen = datagen.flow_from_directory(test_dir,\n",
    "                                            batch_size= validation_batch_size,\n",
    "                                            shuffle= False,\n",
    "                                            target_size = (img_size, img_size),\n",
    "                                            classes = ['Disturbed', 'Undisturbed'])\n",
    "  \n",
    "  return train_datagen, val_datagen, test_datagen"
   ]
  },
  {
   "cell_type": "code",
   "execution_count": 9,
   "metadata": {
    "colab": {
     "base_uri": "https://localhost:8080/"
    },
    "executionInfo": {
     "elapsed": 740,
     "status": "ok",
     "timestamp": 1616579581019,
     "user": {
      "displayName": "Japesh Methuku",
      "photoUrl": "https://lh3.googleusercontent.com/a-/AOh14GhIKOAgp633EafFGXJ2ysfjv6TjAjQkWNXhVWhH=s64",
      "userId": "12446060370058677993"
     },
     "user_tz": 0
    },
    "id": "YAWT71kX--Pq",
    "outputId": "7ffafd41-01f6-4d76-ac0e-f31f43d4221d"
   },
   "outputs": [
    {
     "name": "stdout",
     "output_type": "stream",
     "text": [
      "Found 220 images belonging to 2 classes.\n",
      "Found 68 images belonging to 2 classes.\n",
      "Found 56 images belonging to 2 classes.\n"
     ]
    }
   ],
   "source": [
    "train_datagen, val_datagen, test_datagen = get_images(299, preprocessing= inception_v3.preprocess_input)"
   ]
  },
  {
   "cell_type": "code",
   "execution_count": 40,
   "metadata": {
    "id": "z8uQ_iJQpMMv"
   },
   "outputs": [],
   "source": [
    "def visualize_training(history, epochs):\n",
    "    fig = plt.figure(figsize=(16,12))\n",
    "     #plt.subplot(1,2,1)\n",
    "    plt.plot(history.history['accuracy']);\n",
    "    plt.plot(history.history['val_accuracy'])\n",
    "    plt.title(\"Model Accuracy\")\n",
    "    plt.ylabel('accuracy')\n",
    "    plt.xlabel('epoch')\n",
    "    #plt.figsize()\n",
    "    label_1 = \"{:.2f}\".format(history.history['accuracy'][-1])\n",
    "    label_2 = \"{:.2f}\".format(history.history['val_accuracy'][-1])\n",
    "    plt.annotate(label_1, (epochs-1,history.history['accuracy'][-1]), textcoords=\"offset points\", \n",
    "                 xytext=(0,10),ha='center')\n",
    "    plt.annotate(label_2, (epochs-1,history.history['val_accuracy'][-1]), textcoords=\"offset points\", \n",
    "                 xytext=(0,10),ha='center')\n",
    "    plt.legend(['training', 'validation'], loc='upper left')\n",
    "    fig = plt.figure(figsize=(16,12))\n",
    "    #plt.subplot(1,2,2)\n",
    "    plt.plot(history.history['loss']);\n",
    "    plt.plot(history.history['val_loss'])\n",
    "    plt.title(\"Model Loss\")\n",
    "    plt.ylabel('loss')\n",
    "    plt.xlabel('epoch')\n",
    "    label_3 = \"{:.2f}\".format(history.history['loss'][-1])\n",
    "    label_4 = \"{:.2f}\".format(history.history['val_loss'][-1])\n",
    "    plt.annotate(label_3, (epochs-1,history.history['loss'][-1]), textcoords=\"offset points\", \n",
    "                 xytext=(0,10),ha='center')\n",
    "    plt.annotate(label_4, (epochs-1,history.history['val_loss'][-1]), textcoords=\"offset points\", \n",
    "                 xytext=(0,10),ha='center')\n",
    "    plt.legend(['training', 'validation'], loc='upper left')\n",
    "    plt.show()"
   ]
  },
  {
   "cell_type": "code",
   "execution_count": 13,
   "metadata": {
    "id": "In2WtrreqQpd"
   },
   "outputs": [],
   "source": [
    "def print_classification_report(model, data_gen, batch_size):\n",
    "    true_labels = data_gen.labels\n",
    "    data_gen.reset()\n",
    "    predicted_labels = model.predict(data_gen, steps = np.ceil(len(true_labels)/batch_size))\n",
    "    #print(list( np.argmax(a) for a in predicted_labels), true_labels)\n",
    "    print(classification_report(true_labels, list( np.argmax(a) for a in predicted_labels)))\n",
    "    print(\"Confusion Matrix:\\n \",confusion_matrix(true_labels,list( np.argmax(a) for a in predicted_labels)))"
   ]
  },
  {
   "cell_type": "markdown",
   "metadata": {
    "id": "wak6fhrhHFLi"
   },
   "source": [
    "## **Build the model**"
   ]
  },
  {
   "cell_type": "code",
   "execution_count": 14,
   "metadata": {
    "id": "JpL3tPxNHNxZ"
   },
   "outputs": [
    {
     "name": "stdout",
     "output_type": "stream",
     "text": [
      "Downloading data from https://storage.googleapis.com/tensorflow/keras-applications/inception_v3/inception_v3_weights_tf_dim_ordering_tf_kernels_notop.h5\n",
      "87916544/87910968 [==============================] - 15s 0us/step\n"
     ]
    }
   ],
   "source": [
    "inception_base = inception_v3.InceptionV3(weights='imagenet', include_top= False, input_shape= (299, 299, 3))"
   ]
  },
  {
   "cell_type": "code",
   "execution_count": 15,
   "metadata": {
    "colab": {
     "base_uri": "https://localhost:8080/"
    },
    "executionInfo": {
     "elapsed": 1058,
     "status": "ok",
     "timestamp": 1616579614229,
     "user": {
      "displayName": "Japesh Methuku",
      "photoUrl": "https://lh3.googleusercontent.com/a-/AOh14GhIKOAgp633EafFGXJ2ysfjv6TjAjQkWNXhVWhH=s64",
      "userId": "12446060370058677993"
     },
     "user_tz": 0
    },
    "id": "6hcwT5ROKMYO",
    "outputId": "d16ccd85-7fa6-479a-9345-de650854b528"
   },
   "outputs": [
    {
     "name": "stdout",
     "output_type": "stream",
     "text": [
      "Model: \"inception_v3\"\n",
      "__________________________________________________________________________________________________\n",
      "Layer (type)                    Output Shape         Param #     Connected to                     \n",
      "==================================================================================================\n",
      "input_1 (InputLayer)            [(None, 299, 299, 3) 0                                            \n",
      "__________________________________________________________________________________________________\n",
      "conv2d (Conv2D)                 (None, 149, 149, 32) 864         input_1[0][0]                    \n",
      "__________________________________________________________________________________________________\n",
      "batch_normalization (BatchNorma (None, 149, 149, 32) 96          conv2d[0][0]                     \n",
      "__________________________________________________________________________________________________\n",
      "activation (Activation)         (None, 149, 149, 32) 0           batch_normalization[0][0]        \n",
      "__________________________________________________________________________________________________\n",
      "conv2d_1 (Conv2D)               (None, 147, 147, 32) 9216        activation[0][0]                 \n",
      "__________________________________________________________________________________________________\n",
      "batch_normalization_1 (BatchNor (None, 147, 147, 32) 96          conv2d_1[0][0]                   \n",
      "__________________________________________________________________________________________________\n",
      "activation_1 (Activation)       (None, 147, 147, 32) 0           batch_normalization_1[0][0]      \n",
      "__________________________________________________________________________________________________\n",
      "conv2d_2 (Conv2D)               (None, 147, 147, 64) 18432       activation_1[0][0]               \n",
      "__________________________________________________________________________________________________\n",
      "batch_normalization_2 (BatchNor (None, 147, 147, 64) 192         conv2d_2[0][0]                   \n",
      "__________________________________________________________________________________________________\n",
      "activation_2 (Activation)       (None, 147, 147, 64) 0           batch_normalization_2[0][0]      \n",
      "__________________________________________________________________________________________________\n",
      "max_pooling2d (MaxPooling2D)    (None, 73, 73, 64)   0           activation_2[0][0]               \n",
      "__________________________________________________________________________________________________\n",
      "conv2d_3 (Conv2D)               (None, 73, 73, 80)   5120        max_pooling2d[0][0]              \n",
      "__________________________________________________________________________________________________\n",
      "batch_normalization_3 (BatchNor (None, 73, 73, 80)   240         conv2d_3[0][0]                   \n",
      "__________________________________________________________________________________________________\n",
      "activation_3 (Activation)       (None, 73, 73, 80)   0           batch_normalization_3[0][0]      \n",
      "__________________________________________________________________________________________________\n",
      "conv2d_4 (Conv2D)               (None, 71, 71, 192)  138240      activation_3[0][0]               \n",
      "__________________________________________________________________________________________________\n",
      "batch_normalization_4 (BatchNor (None, 71, 71, 192)  576         conv2d_4[0][0]                   \n",
      "__________________________________________________________________________________________________\n",
      "activation_4 (Activation)       (None, 71, 71, 192)  0           batch_normalization_4[0][0]      \n",
      "__________________________________________________________________________________________________\n",
      "max_pooling2d_1 (MaxPooling2D)  (None, 35, 35, 192)  0           activation_4[0][0]               \n",
      "__________________________________________________________________________________________________\n",
      "conv2d_8 (Conv2D)               (None, 35, 35, 64)   12288       max_pooling2d_1[0][0]            \n",
      "__________________________________________________________________________________________________\n",
      "batch_normalization_8 (BatchNor (None, 35, 35, 64)   192         conv2d_8[0][0]                   \n",
      "__________________________________________________________________________________________________\n",
      "activation_8 (Activation)       (None, 35, 35, 64)   0           batch_normalization_8[0][0]      \n",
      "__________________________________________________________________________________________________\n",
      "conv2d_6 (Conv2D)               (None, 35, 35, 48)   9216        max_pooling2d_1[0][0]            \n",
      "__________________________________________________________________________________________________\n",
      "conv2d_9 (Conv2D)               (None, 35, 35, 96)   55296       activation_8[0][0]               \n",
      "__________________________________________________________________________________________________\n",
      "batch_normalization_6 (BatchNor (None, 35, 35, 48)   144         conv2d_6[0][0]                   \n",
      "__________________________________________________________________________________________________\n",
      "batch_normalization_9 (BatchNor (None, 35, 35, 96)   288         conv2d_9[0][0]                   \n",
      "__________________________________________________________________________________________________\n",
      "activation_6 (Activation)       (None, 35, 35, 48)   0           batch_normalization_6[0][0]      \n",
      "__________________________________________________________________________________________________\n",
      "activation_9 (Activation)       (None, 35, 35, 96)   0           batch_normalization_9[0][0]      \n",
      "__________________________________________________________________________________________________\n",
      "average_pooling2d (AveragePooli (None, 35, 35, 192)  0           max_pooling2d_1[0][0]            \n",
      "__________________________________________________________________________________________________\n",
      "conv2d_5 (Conv2D)               (None, 35, 35, 64)   12288       max_pooling2d_1[0][0]            \n",
      "__________________________________________________________________________________________________\n",
      "conv2d_7 (Conv2D)               (None, 35, 35, 64)   76800       activation_6[0][0]               \n",
      "__________________________________________________________________________________________________\n",
      "conv2d_10 (Conv2D)              (None, 35, 35, 96)   82944       activation_9[0][0]               \n",
      "__________________________________________________________________________________________________\n",
      "conv2d_11 (Conv2D)              (None, 35, 35, 32)   6144        average_pooling2d[0][0]          \n",
      "__________________________________________________________________________________________________\n",
      "batch_normalization_5 (BatchNor (None, 35, 35, 64)   192         conv2d_5[0][0]                   \n",
      "__________________________________________________________________________________________________\n",
      "batch_normalization_7 (BatchNor (None, 35, 35, 64)   192         conv2d_7[0][0]                   \n",
      "__________________________________________________________________________________________________\n",
      "batch_normalization_10 (BatchNo (None, 35, 35, 96)   288         conv2d_10[0][0]                  \n",
      "__________________________________________________________________________________________________\n",
      "batch_normalization_11 (BatchNo (None, 35, 35, 32)   96          conv2d_11[0][0]                  \n",
      "__________________________________________________________________________________________________\n",
      "activation_5 (Activation)       (None, 35, 35, 64)   0           batch_normalization_5[0][0]      \n",
      "__________________________________________________________________________________________________\n",
      "activation_7 (Activation)       (None, 35, 35, 64)   0           batch_normalization_7[0][0]      \n",
      "__________________________________________________________________________________________________\n",
      "activation_10 (Activation)      (None, 35, 35, 96)   0           batch_normalization_10[0][0]     \n",
      "__________________________________________________________________________________________________\n",
      "activation_11 (Activation)      (None, 35, 35, 32)   0           batch_normalization_11[0][0]     \n",
      "__________________________________________________________________________________________________\n",
      "mixed0 (Concatenate)            (None, 35, 35, 256)  0           activation_5[0][0]               \n",
      "                                                                 activation_7[0][0]               \n",
      "                                                                 activation_10[0][0]              \n",
      "                                                                 activation_11[0][0]              \n",
      "__________________________________________________________________________________________________\n",
      "conv2d_15 (Conv2D)              (None, 35, 35, 64)   16384       mixed0[0][0]                     \n",
      "__________________________________________________________________________________________________\n",
      "batch_normalization_15 (BatchNo (None, 35, 35, 64)   192         conv2d_15[0][0]                  \n",
      "__________________________________________________________________________________________________\n",
      "activation_15 (Activation)      (None, 35, 35, 64)   0           batch_normalization_15[0][0]     \n",
      "__________________________________________________________________________________________________\n",
      "conv2d_13 (Conv2D)              (None, 35, 35, 48)   12288       mixed0[0][0]                     \n",
      "__________________________________________________________________________________________________\n",
      "conv2d_16 (Conv2D)              (None, 35, 35, 96)   55296       activation_15[0][0]              \n",
      "__________________________________________________________________________________________________\n",
      "batch_normalization_13 (BatchNo (None, 35, 35, 48)   144         conv2d_13[0][0]                  \n",
      "__________________________________________________________________________________________________\n",
      "batch_normalization_16 (BatchNo (None, 35, 35, 96)   288         conv2d_16[0][0]                  \n",
      "__________________________________________________________________________________________________\n",
      "activation_13 (Activation)      (None, 35, 35, 48)   0           batch_normalization_13[0][0]     \n",
      "__________________________________________________________________________________________________\n",
      "activation_16 (Activation)      (None, 35, 35, 96)   0           batch_normalization_16[0][0]     \n",
      "__________________________________________________________________________________________________\n",
      "average_pooling2d_1 (AveragePoo (None, 35, 35, 256)  0           mixed0[0][0]                     \n",
      "__________________________________________________________________________________________________\n",
      "conv2d_12 (Conv2D)              (None, 35, 35, 64)   16384       mixed0[0][0]                     \n",
      "__________________________________________________________________________________________________\n",
      "conv2d_14 (Conv2D)              (None, 35, 35, 64)   76800       activation_13[0][0]              \n",
      "__________________________________________________________________________________________________\n",
      "conv2d_17 (Conv2D)              (None, 35, 35, 96)   82944       activation_16[0][0]              \n",
      "__________________________________________________________________________________________________\n",
      "conv2d_18 (Conv2D)              (None, 35, 35, 64)   16384       average_pooling2d_1[0][0]        \n",
      "__________________________________________________________________________________________________\n",
      "batch_normalization_12 (BatchNo (None, 35, 35, 64)   192         conv2d_12[0][0]                  \n",
      "__________________________________________________________________________________________________\n",
      "batch_normalization_14 (BatchNo (None, 35, 35, 64)   192         conv2d_14[0][0]                  \n",
      "__________________________________________________________________________________________________\n",
      "batch_normalization_17 (BatchNo (None, 35, 35, 96)   288         conv2d_17[0][0]                  \n",
      "__________________________________________________________________________________________________\n",
      "batch_normalization_18 (BatchNo (None, 35, 35, 64)   192         conv2d_18[0][0]                  \n",
      "__________________________________________________________________________________________________\n",
      "activation_12 (Activation)      (None, 35, 35, 64)   0           batch_normalization_12[0][0]     \n",
      "__________________________________________________________________________________________________\n",
      "activation_14 (Activation)      (None, 35, 35, 64)   0           batch_normalization_14[0][0]     \n",
      "__________________________________________________________________________________________________\n",
      "activation_17 (Activation)      (None, 35, 35, 96)   0           batch_normalization_17[0][0]     \n",
      "__________________________________________________________________________________________________\n",
      "activation_18 (Activation)      (None, 35, 35, 64)   0           batch_normalization_18[0][0]     \n",
      "__________________________________________________________________________________________________\n",
      "mixed1 (Concatenate)            (None, 35, 35, 288)  0           activation_12[0][0]              \n",
      "                                                                 activation_14[0][0]              \n",
      "                                                                 activation_17[0][0]              \n",
      "                                                                 activation_18[0][0]              \n",
      "__________________________________________________________________________________________________\n",
      "conv2d_22 (Conv2D)              (None, 35, 35, 64)   18432       mixed1[0][0]                     \n",
      "__________________________________________________________________________________________________\n",
      "batch_normalization_22 (BatchNo (None, 35, 35, 64)   192         conv2d_22[0][0]                  \n",
      "__________________________________________________________________________________________________\n",
      "activation_22 (Activation)      (None, 35, 35, 64)   0           batch_normalization_22[0][0]     \n",
      "__________________________________________________________________________________________________\n",
      "conv2d_20 (Conv2D)              (None, 35, 35, 48)   13824       mixed1[0][0]                     \n",
      "__________________________________________________________________________________________________\n",
      "conv2d_23 (Conv2D)              (None, 35, 35, 96)   55296       activation_22[0][0]              \n",
      "__________________________________________________________________________________________________\n",
      "batch_normalization_20 (BatchNo (None, 35, 35, 48)   144         conv2d_20[0][0]                  \n",
      "__________________________________________________________________________________________________\n",
      "batch_normalization_23 (BatchNo (None, 35, 35, 96)   288         conv2d_23[0][0]                  \n",
      "__________________________________________________________________________________________________\n",
      "activation_20 (Activation)      (None, 35, 35, 48)   0           batch_normalization_20[0][0]     \n",
      "__________________________________________________________________________________________________\n",
      "activation_23 (Activation)      (None, 35, 35, 96)   0           batch_normalization_23[0][0]     \n",
      "__________________________________________________________________________________________________\n",
      "average_pooling2d_2 (AveragePoo (None, 35, 35, 288)  0           mixed1[0][0]                     \n",
      "__________________________________________________________________________________________________\n",
      "conv2d_19 (Conv2D)              (None, 35, 35, 64)   18432       mixed1[0][0]                     \n",
      "__________________________________________________________________________________________________\n",
      "conv2d_21 (Conv2D)              (None, 35, 35, 64)   76800       activation_20[0][0]              \n",
      "__________________________________________________________________________________________________\n",
      "conv2d_24 (Conv2D)              (None, 35, 35, 96)   82944       activation_23[0][0]              \n",
      "__________________________________________________________________________________________________\n",
      "conv2d_25 (Conv2D)              (None, 35, 35, 64)   18432       average_pooling2d_2[0][0]        \n",
      "__________________________________________________________________________________________________\n",
      "batch_normalization_19 (BatchNo (None, 35, 35, 64)   192         conv2d_19[0][0]                  \n",
      "__________________________________________________________________________________________________\n",
      "batch_normalization_21 (BatchNo (None, 35, 35, 64)   192         conv2d_21[0][0]                  \n",
      "__________________________________________________________________________________________________\n",
      "batch_normalization_24 (BatchNo (None, 35, 35, 96)   288         conv2d_24[0][0]                  \n",
      "__________________________________________________________________________________________________\n",
      "batch_normalization_25 (BatchNo (None, 35, 35, 64)   192         conv2d_25[0][0]                  \n",
      "__________________________________________________________________________________________________\n",
      "activation_19 (Activation)      (None, 35, 35, 64)   0           batch_normalization_19[0][0]     \n",
      "__________________________________________________________________________________________________\n",
      "activation_21 (Activation)      (None, 35, 35, 64)   0           batch_normalization_21[0][0]     \n",
      "__________________________________________________________________________________________________\n",
      "activation_24 (Activation)      (None, 35, 35, 96)   0           batch_normalization_24[0][0]     \n",
      "__________________________________________________________________________________________________\n",
      "activation_25 (Activation)      (None, 35, 35, 64)   0           batch_normalization_25[0][0]     \n",
      "__________________________________________________________________________________________________\n",
      "mixed2 (Concatenate)            (None, 35, 35, 288)  0           activation_19[0][0]              \n",
      "                                                                 activation_21[0][0]              \n",
      "                                                                 activation_24[0][0]              \n",
      "                                                                 activation_25[0][0]              \n",
      "__________________________________________________________________________________________________\n",
      "conv2d_27 (Conv2D)              (None, 35, 35, 64)   18432       mixed2[0][0]                     \n",
      "__________________________________________________________________________________________________\n",
      "batch_normalization_27 (BatchNo (None, 35, 35, 64)   192         conv2d_27[0][0]                  \n",
      "__________________________________________________________________________________________________\n",
      "activation_27 (Activation)      (None, 35, 35, 64)   0           batch_normalization_27[0][0]     \n",
      "__________________________________________________________________________________________________\n",
      "conv2d_28 (Conv2D)              (None, 35, 35, 96)   55296       activation_27[0][0]              \n",
      "__________________________________________________________________________________________________\n",
      "batch_normalization_28 (BatchNo (None, 35, 35, 96)   288         conv2d_28[0][0]                  \n",
      "__________________________________________________________________________________________________\n",
      "activation_28 (Activation)      (None, 35, 35, 96)   0           batch_normalization_28[0][0]     \n",
      "__________________________________________________________________________________________________\n",
      "conv2d_26 (Conv2D)              (None, 17, 17, 384)  995328      mixed2[0][0]                     \n",
      "__________________________________________________________________________________________________\n",
      "conv2d_29 (Conv2D)              (None, 17, 17, 96)   82944       activation_28[0][0]              \n",
      "__________________________________________________________________________________________________\n",
      "batch_normalization_26 (BatchNo (None, 17, 17, 384)  1152        conv2d_26[0][0]                  \n",
      "__________________________________________________________________________________________________\n",
      "batch_normalization_29 (BatchNo (None, 17, 17, 96)   288         conv2d_29[0][0]                  \n",
      "__________________________________________________________________________________________________\n",
      "activation_26 (Activation)      (None, 17, 17, 384)  0           batch_normalization_26[0][0]     \n",
      "__________________________________________________________________________________________________\n",
      "activation_29 (Activation)      (None, 17, 17, 96)   0           batch_normalization_29[0][0]     \n",
      "__________________________________________________________________________________________________\n",
      "max_pooling2d_2 (MaxPooling2D)  (None, 17, 17, 288)  0           mixed2[0][0]                     \n",
      "__________________________________________________________________________________________________\n",
      "mixed3 (Concatenate)            (None, 17, 17, 768)  0           activation_26[0][0]              \n",
      "                                                                 activation_29[0][0]              \n",
      "                                                                 max_pooling2d_2[0][0]            \n",
      "__________________________________________________________________________________________________\n",
      "conv2d_34 (Conv2D)              (None, 17, 17, 128)  98304       mixed3[0][0]                     \n",
      "__________________________________________________________________________________________________\n",
      "batch_normalization_34 (BatchNo (None, 17, 17, 128)  384         conv2d_34[0][0]                  \n",
      "__________________________________________________________________________________________________\n",
      "activation_34 (Activation)      (None, 17, 17, 128)  0           batch_normalization_34[0][0]     \n",
      "__________________________________________________________________________________________________\n",
      "conv2d_35 (Conv2D)              (None, 17, 17, 128)  114688      activation_34[0][0]              \n",
      "__________________________________________________________________________________________________\n",
      "batch_normalization_35 (BatchNo (None, 17, 17, 128)  384         conv2d_35[0][0]                  \n",
      "__________________________________________________________________________________________________\n",
      "activation_35 (Activation)      (None, 17, 17, 128)  0           batch_normalization_35[0][0]     \n",
      "__________________________________________________________________________________________________\n",
      "conv2d_31 (Conv2D)              (None, 17, 17, 128)  98304       mixed3[0][0]                     \n",
      "__________________________________________________________________________________________________\n",
      "conv2d_36 (Conv2D)              (None, 17, 17, 128)  114688      activation_35[0][0]              \n",
      "__________________________________________________________________________________________________\n",
      "batch_normalization_31 (BatchNo (None, 17, 17, 128)  384         conv2d_31[0][0]                  \n",
      "__________________________________________________________________________________________________\n",
      "batch_normalization_36 (BatchNo (None, 17, 17, 128)  384         conv2d_36[0][0]                  \n",
      "__________________________________________________________________________________________________\n",
      "activation_31 (Activation)      (None, 17, 17, 128)  0           batch_normalization_31[0][0]     \n",
      "__________________________________________________________________________________________________\n",
      "activation_36 (Activation)      (None, 17, 17, 128)  0           batch_normalization_36[0][0]     \n",
      "__________________________________________________________________________________________________\n",
      "conv2d_32 (Conv2D)              (None, 17, 17, 128)  114688      activation_31[0][0]              \n",
      "__________________________________________________________________________________________________\n",
      "conv2d_37 (Conv2D)              (None, 17, 17, 128)  114688      activation_36[0][0]              \n",
      "__________________________________________________________________________________________________\n",
      "batch_normalization_32 (BatchNo (None, 17, 17, 128)  384         conv2d_32[0][0]                  \n",
      "__________________________________________________________________________________________________\n",
      "batch_normalization_37 (BatchNo (None, 17, 17, 128)  384         conv2d_37[0][0]                  \n",
      "__________________________________________________________________________________________________\n",
      "activation_32 (Activation)      (None, 17, 17, 128)  0           batch_normalization_32[0][0]     \n",
      "__________________________________________________________________________________________________\n",
      "activation_37 (Activation)      (None, 17, 17, 128)  0           batch_normalization_37[0][0]     \n",
      "__________________________________________________________________________________________________\n",
      "average_pooling2d_3 (AveragePoo (None, 17, 17, 768)  0           mixed3[0][0]                     \n",
      "__________________________________________________________________________________________________\n",
      "conv2d_30 (Conv2D)              (None, 17, 17, 192)  147456      mixed3[0][0]                     \n",
      "__________________________________________________________________________________________________\n",
      "conv2d_33 (Conv2D)              (None, 17, 17, 192)  172032      activation_32[0][0]              \n",
      "__________________________________________________________________________________________________\n",
      "conv2d_38 (Conv2D)              (None, 17, 17, 192)  172032      activation_37[0][0]              \n",
      "__________________________________________________________________________________________________\n",
      "conv2d_39 (Conv2D)              (None, 17, 17, 192)  147456      average_pooling2d_3[0][0]        \n",
      "__________________________________________________________________________________________________\n",
      "batch_normalization_30 (BatchNo (None, 17, 17, 192)  576         conv2d_30[0][0]                  \n",
      "__________________________________________________________________________________________________\n",
      "batch_normalization_33 (BatchNo (None, 17, 17, 192)  576         conv2d_33[0][0]                  \n",
      "__________________________________________________________________________________________________\n",
      "batch_normalization_38 (BatchNo (None, 17, 17, 192)  576         conv2d_38[0][0]                  \n",
      "__________________________________________________________________________________________________\n",
      "batch_normalization_39 (BatchNo (None, 17, 17, 192)  576         conv2d_39[0][0]                  \n",
      "__________________________________________________________________________________________________\n",
      "activation_30 (Activation)      (None, 17, 17, 192)  0           batch_normalization_30[0][0]     \n",
      "__________________________________________________________________________________________________\n",
      "activation_33 (Activation)      (None, 17, 17, 192)  0           batch_normalization_33[0][0]     \n",
      "__________________________________________________________________________________________________\n",
      "activation_38 (Activation)      (None, 17, 17, 192)  0           batch_normalization_38[0][0]     \n",
      "__________________________________________________________________________________________________\n",
      "activation_39 (Activation)      (None, 17, 17, 192)  0           batch_normalization_39[0][0]     \n",
      "__________________________________________________________________________________________________\n",
      "mixed4 (Concatenate)            (None, 17, 17, 768)  0           activation_30[0][0]              \n",
      "                                                                 activation_33[0][0]              \n",
      "                                                                 activation_38[0][0]              \n",
      "                                                                 activation_39[0][0]              \n",
      "__________________________________________________________________________________________________\n",
      "conv2d_44 (Conv2D)              (None, 17, 17, 160)  122880      mixed4[0][0]                     \n",
      "__________________________________________________________________________________________________\n",
      "batch_normalization_44 (BatchNo (None, 17, 17, 160)  480         conv2d_44[0][0]                  \n",
      "__________________________________________________________________________________________________\n",
      "activation_44 (Activation)      (None, 17, 17, 160)  0           batch_normalization_44[0][0]     \n",
      "__________________________________________________________________________________________________\n",
      "conv2d_45 (Conv2D)              (None, 17, 17, 160)  179200      activation_44[0][0]              \n",
      "__________________________________________________________________________________________________\n",
      "batch_normalization_45 (BatchNo (None, 17, 17, 160)  480         conv2d_45[0][0]                  \n",
      "__________________________________________________________________________________________________\n",
      "activation_45 (Activation)      (None, 17, 17, 160)  0           batch_normalization_45[0][0]     \n",
      "__________________________________________________________________________________________________\n",
      "conv2d_41 (Conv2D)              (None, 17, 17, 160)  122880      mixed4[0][0]                     \n",
      "__________________________________________________________________________________________________\n",
      "conv2d_46 (Conv2D)              (None, 17, 17, 160)  179200      activation_45[0][0]              \n",
      "__________________________________________________________________________________________________\n",
      "batch_normalization_41 (BatchNo (None, 17, 17, 160)  480         conv2d_41[0][0]                  \n",
      "__________________________________________________________________________________________________\n",
      "batch_normalization_46 (BatchNo (None, 17, 17, 160)  480         conv2d_46[0][0]                  \n",
      "__________________________________________________________________________________________________\n",
      "activation_41 (Activation)      (None, 17, 17, 160)  0           batch_normalization_41[0][0]     \n",
      "__________________________________________________________________________________________________\n",
      "activation_46 (Activation)      (None, 17, 17, 160)  0           batch_normalization_46[0][0]     \n",
      "__________________________________________________________________________________________________\n",
      "conv2d_42 (Conv2D)              (None, 17, 17, 160)  179200      activation_41[0][0]              \n",
      "__________________________________________________________________________________________________\n",
      "conv2d_47 (Conv2D)              (None, 17, 17, 160)  179200      activation_46[0][0]              \n",
      "__________________________________________________________________________________________________\n",
      "batch_normalization_42 (BatchNo (None, 17, 17, 160)  480         conv2d_42[0][0]                  \n",
      "__________________________________________________________________________________________________\n",
      "batch_normalization_47 (BatchNo (None, 17, 17, 160)  480         conv2d_47[0][0]                  \n",
      "__________________________________________________________________________________________________\n",
      "activation_42 (Activation)      (None, 17, 17, 160)  0           batch_normalization_42[0][0]     \n",
      "__________________________________________________________________________________________________\n",
      "activation_47 (Activation)      (None, 17, 17, 160)  0           batch_normalization_47[0][0]     \n",
      "__________________________________________________________________________________________________\n",
      "average_pooling2d_4 (AveragePoo (None, 17, 17, 768)  0           mixed4[0][0]                     \n",
      "__________________________________________________________________________________________________\n",
      "conv2d_40 (Conv2D)              (None, 17, 17, 192)  147456      mixed4[0][0]                     \n",
      "__________________________________________________________________________________________________\n",
      "conv2d_43 (Conv2D)              (None, 17, 17, 192)  215040      activation_42[0][0]              \n",
      "__________________________________________________________________________________________________\n",
      "conv2d_48 (Conv2D)              (None, 17, 17, 192)  215040      activation_47[0][0]              \n",
      "__________________________________________________________________________________________________\n",
      "conv2d_49 (Conv2D)              (None, 17, 17, 192)  147456      average_pooling2d_4[0][0]        \n",
      "__________________________________________________________________________________________________\n",
      "batch_normalization_40 (BatchNo (None, 17, 17, 192)  576         conv2d_40[0][0]                  \n",
      "__________________________________________________________________________________________________\n",
      "batch_normalization_43 (BatchNo (None, 17, 17, 192)  576         conv2d_43[0][0]                  \n",
      "__________________________________________________________________________________________________\n",
      "batch_normalization_48 (BatchNo (None, 17, 17, 192)  576         conv2d_48[0][0]                  \n",
      "__________________________________________________________________________________________________\n",
      "batch_normalization_49 (BatchNo (None, 17, 17, 192)  576         conv2d_49[0][0]                  \n",
      "__________________________________________________________________________________________________\n",
      "activation_40 (Activation)      (None, 17, 17, 192)  0           batch_normalization_40[0][0]     \n",
      "__________________________________________________________________________________________________\n",
      "activation_43 (Activation)      (None, 17, 17, 192)  0           batch_normalization_43[0][0]     \n",
      "__________________________________________________________________________________________________\n",
      "activation_48 (Activation)      (None, 17, 17, 192)  0           batch_normalization_48[0][0]     \n",
      "__________________________________________________________________________________________________\n",
      "activation_49 (Activation)      (None, 17, 17, 192)  0           batch_normalization_49[0][0]     \n",
      "__________________________________________________________________________________________________\n",
      "mixed5 (Concatenate)            (None, 17, 17, 768)  0           activation_40[0][0]              \n",
      "                                                                 activation_43[0][0]              \n",
      "                                                                 activation_48[0][0]              \n",
      "                                                                 activation_49[0][0]              \n",
      "__________________________________________________________________________________________________\n",
      "conv2d_54 (Conv2D)              (None, 17, 17, 160)  122880      mixed5[0][0]                     \n",
      "__________________________________________________________________________________________________\n",
      "batch_normalization_54 (BatchNo (None, 17, 17, 160)  480         conv2d_54[0][0]                  \n",
      "__________________________________________________________________________________________________\n",
      "activation_54 (Activation)      (None, 17, 17, 160)  0           batch_normalization_54[0][0]     \n",
      "__________________________________________________________________________________________________\n",
      "conv2d_55 (Conv2D)              (None, 17, 17, 160)  179200      activation_54[0][0]              \n",
      "__________________________________________________________________________________________________\n",
      "batch_normalization_55 (BatchNo (None, 17, 17, 160)  480         conv2d_55[0][0]                  \n",
      "__________________________________________________________________________________________________\n",
      "activation_55 (Activation)      (None, 17, 17, 160)  0           batch_normalization_55[0][0]     \n",
      "__________________________________________________________________________________________________\n",
      "conv2d_51 (Conv2D)              (None, 17, 17, 160)  122880      mixed5[0][0]                     \n",
      "__________________________________________________________________________________________________\n",
      "conv2d_56 (Conv2D)              (None, 17, 17, 160)  179200      activation_55[0][0]              \n",
      "__________________________________________________________________________________________________\n",
      "batch_normalization_51 (BatchNo (None, 17, 17, 160)  480         conv2d_51[0][0]                  \n",
      "__________________________________________________________________________________________________\n",
      "batch_normalization_56 (BatchNo (None, 17, 17, 160)  480         conv2d_56[0][0]                  \n",
      "__________________________________________________________________________________________________\n",
      "activation_51 (Activation)      (None, 17, 17, 160)  0           batch_normalization_51[0][0]     \n",
      "__________________________________________________________________________________________________\n",
      "activation_56 (Activation)      (None, 17, 17, 160)  0           batch_normalization_56[0][0]     \n",
      "__________________________________________________________________________________________________\n",
      "conv2d_52 (Conv2D)              (None, 17, 17, 160)  179200      activation_51[0][0]              \n",
      "__________________________________________________________________________________________________\n",
      "conv2d_57 (Conv2D)              (None, 17, 17, 160)  179200      activation_56[0][0]              \n",
      "__________________________________________________________________________________________________\n",
      "batch_normalization_52 (BatchNo (None, 17, 17, 160)  480         conv2d_52[0][0]                  \n",
      "__________________________________________________________________________________________________\n",
      "batch_normalization_57 (BatchNo (None, 17, 17, 160)  480         conv2d_57[0][0]                  \n",
      "__________________________________________________________________________________________________\n",
      "activation_52 (Activation)      (None, 17, 17, 160)  0           batch_normalization_52[0][0]     \n",
      "__________________________________________________________________________________________________\n",
      "activation_57 (Activation)      (None, 17, 17, 160)  0           batch_normalization_57[0][0]     \n",
      "__________________________________________________________________________________________________\n",
      "average_pooling2d_5 (AveragePoo (None, 17, 17, 768)  0           mixed5[0][0]                     \n",
      "__________________________________________________________________________________________________\n",
      "conv2d_50 (Conv2D)              (None, 17, 17, 192)  147456      mixed5[0][0]                     \n",
      "__________________________________________________________________________________________________\n",
      "conv2d_53 (Conv2D)              (None, 17, 17, 192)  215040      activation_52[0][0]              \n",
      "__________________________________________________________________________________________________\n",
      "conv2d_58 (Conv2D)              (None, 17, 17, 192)  215040      activation_57[0][0]              \n",
      "__________________________________________________________________________________________________\n",
      "conv2d_59 (Conv2D)              (None, 17, 17, 192)  147456      average_pooling2d_5[0][0]        \n",
      "__________________________________________________________________________________________________\n",
      "batch_normalization_50 (BatchNo (None, 17, 17, 192)  576         conv2d_50[0][0]                  \n",
      "__________________________________________________________________________________________________\n",
      "batch_normalization_53 (BatchNo (None, 17, 17, 192)  576         conv2d_53[0][0]                  \n",
      "__________________________________________________________________________________________________\n",
      "batch_normalization_58 (BatchNo (None, 17, 17, 192)  576         conv2d_58[0][0]                  \n",
      "__________________________________________________________________________________________________\n",
      "batch_normalization_59 (BatchNo (None, 17, 17, 192)  576         conv2d_59[0][0]                  \n",
      "__________________________________________________________________________________________________\n",
      "activation_50 (Activation)      (None, 17, 17, 192)  0           batch_normalization_50[0][0]     \n",
      "__________________________________________________________________________________________________\n",
      "activation_53 (Activation)      (None, 17, 17, 192)  0           batch_normalization_53[0][0]     \n",
      "__________________________________________________________________________________________________\n",
      "activation_58 (Activation)      (None, 17, 17, 192)  0           batch_normalization_58[0][0]     \n",
      "__________________________________________________________________________________________________\n",
      "activation_59 (Activation)      (None, 17, 17, 192)  0           batch_normalization_59[0][0]     \n",
      "__________________________________________________________________________________________________\n",
      "mixed6 (Concatenate)            (None, 17, 17, 768)  0           activation_50[0][0]              \n",
      "                                                                 activation_53[0][0]              \n",
      "                                                                 activation_58[0][0]              \n",
      "                                                                 activation_59[0][0]              \n",
      "__________________________________________________________________________________________________\n",
      "conv2d_64 (Conv2D)              (None, 17, 17, 192)  147456      mixed6[0][0]                     \n",
      "__________________________________________________________________________________________________\n",
      "batch_normalization_64 (BatchNo (None, 17, 17, 192)  576         conv2d_64[0][0]                  \n",
      "__________________________________________________________________________________________________\n",
      "activation_64 (Activation)      (None, 17, 17, 192)  0           batch_normalization_64[0][0]     \n",
      "__________________________________________________________________________________________________\n",
      "conv2d_65 (Conv2D)              (None, 17, 17, 192)  258048      activation_64[0][0]              \n",
      "__________________________________________________________________________________________________\n",
      "batch_normalization_65 (BatchNo (None, 17, 17, 192)  576         conv2d_65[0][0]                  \n",
      "__________________________________________________________________________________________________\n",
      "activation_65 (Activation)      (None, 17, 17, 192)  0           batch_normalization_65[0][0]     \n",
      "__________________________________________________________________________________________________\n",
      "conv2d_61 (Conv2D)              (None, 17, 17, 192)  147456      mixed6[0][0]                     \n",
      "__________________________________________________________________________________________________\n",
      "conv2d_66 (Conv2D)              (None, 17, 17, 192)  258048      activation_65[0][0]              \n",
      "__________________________________________________________________________________________________\n",
      "batch_normalization_61 (BatchNo (None, 17, 17, 192)  576         conv2d_61[0][0]                  \n",
      "__________________________________________________________________________________________________\n",
      "batch_normalization_66 (BatchNo (None, 17, 17, 192)  576         conv2d_66[0][0]                  \n",
      "__________________________________________________________________________________________________\n",
      "activation_61 (Activation)      (None, 17, 17, 192)  0           batch_normalization_61[0][0]     \n",
      "__________________________________________________________________________________________________\n",
      "activation_66 (Activation)      (None, 17, 17, 192)  0           batch_normalization_66[0][0]     \n",
      "__________________________________________________________________________________________________\n",
      "conv2d_62 (Conv2D)              (None, 17, 17, 192)  258048      activation_61[0][0]              \n",
      "__________________________________________________________________________________________________\n",
      "conv2d_67 (Conv2D)              (None, 17, 17, 192)  258048      activation_66[0][0]              \n",
      "__________________________________________________________________________________________________\n",
      "batch_normalization_62 (BatchNo (None, 17, 17, 192)  576         conv2d_62[0][0]                  \n",
      "__________________________________________________________________________________________________\n",
      "batch_normalization_67 (BatchNo (None, 17, 17, 192)  576         conv2d_67[0][0]                  \n",
      "__________________________________________________________________________________________________\n",
      "activation_62 (Activation)      (None, 17, 17, 192)  0           batch_normalization_62[0][0]     \n",
      "__________________________________________________________________________________________________\n",
      "activation_67 (Activation)      (None, 17, 17, 192)  0           batch_normalization_67[0][0]     \n",
      "__________________________________________________________________________________________________\n",
      "average_pooling2d_6 (AveragePoo (None, 17, 17, 768)  0           mixed6[0][0]                     \n",
      "__________________________________________________________________________________________________\n",
      "conv2d_60 (Conv2D)              (None, 17, 17, 192)  147456      mixed6[0][0]                     \n",
      "__________________________________________________________________________________________________\n",
      "conv2d_63 (Conv2D)              (None, 17, 17, 192)  258048      activation_62[0][0]              \n",
      "__________________________________________________________________________________________________\n",
      "conv2d_68 (Conv2D)              (None, 17, 17, 192)  258048      activation_67[0][0]              \n",
      "__________________________________________________________________________________________________\n",
      "conv2d_69 (Conv2D)              (None, 17, 17, 192)  147456      average_pooling2d_6[0][0]        \n",
      "__________________________________________________________________________________________________\n",
      "batch_normalization_60 (BatchNo (None, 17, 17, 192)  576         conv2d_60[0][0]                  \n",
      "__________________________________________________________________________________________________\n",
      "batch_normalization_63 (BatchNo (None, 17, 17, 192)  576         conv2d_63[0][0]                  \n",
      "__________________________________________________________________________________________________\n",
      "batch_normalization_68 (BatchNo (None, 17, 17, 192)  576         conv2d_68[0][0]                  \n",
      "__________________________________________________________________________________________________\n",
      "batch_normalization_69 (BatchNo (None, 17, 17, 192)  576         conv2d_69[0][0]                  \n",
      "__________________________________________________________________________________________________\n",
      "activation_60 (Activation)      (None, 17, 17, 192)  0           batch_normalization_60[0][0]     \n",
      "__________________________________________________________________________________________________\n",
      "activation_63 (Activation)      (None, 17, 17, 192)  0           batch_normalization_63[0][0]     \n",
      "__________________________________________________________________________________________________\n",
      "activation_68 (Activation)      (None, 17, 17, 192)  0           batch_normalization_68[0][0]     \n",
      "__________________________________________________________________________________________________\n",
      "activation_69 (Activation)      (None, 17, 17, 192)  0           batch_normalization_69[0][0]     \n",
      "__________________________________________________________________________________________________\n",
      "mixed7 (Concatenate)            (None, 17, 17, 768)  0           activation_60[0][0]              \n",
      "                                                                 activation_63[0][0]              \n",
      "                                                                 activation_68[0][0]              \n",
      "                                                                 activation_69[0][0]              \n",
      "__________________________________________________________________________________________________\n",
      "conv2d_72 (Conv2D)              (None, 17, 17, 192)  147456      mixed7[0][0]                     \n",
      "__________________________________________________________________________________________________\n",
      "batch_normalization_72 (BatchNo (None, 17, 17, 192)  576         conv2d_72[0][0]                  \n",
      "__________________________________________________________________________________________________\n",
      "activation_72 (Activation)      (None, 17, 17, 192)  0           batch_normalization_72[0][0]     \n",
      "__________________________________________________________________________________________________\n",
      "conv2d_73 (Conv2D)              (None, 17, 17, 192)  258048      activation_72[0][0]              \n",
      "__________________________________________________________________________________________________\n",
      "batch_normalization_73 (BatchNo (None, 17, 17, 192)  576         conv2d_73[0][0]                  \n",
      "__________________________________________________________________________________________________\n",
      "activation_73 (Activation)      (None, 17, 17, 192)  0           batch_normalization_73[0][0]     \n",
      "__________________________________________________________________________________________________\n",
      "conv2d_70 (Conv2D)              (None, 17, 17, 192)  147456      mixed7[0][0]                     \n",
      "__________________________________________________________________________________________________\n",
      "conv2d_74 (Conv2D)              (None, 17, 17, 192)  258048      activation_73[0][0]              \n",
      "__________________________________________________________________________________________________\n",
      "batch_normalization_70 (BatchNo (None, 17, 17, 192)  576         conv2d_70[0][0]                  \n",
      "__________________________________________________________________________________________________\n",
      "batch_normalization_74 (BatchNo (None, 17, 17, 192)  576         conv2d_74[0][0]                  \n",
      "__________________________________________________________________________________________________\n",
      "activation_70 (Activation)      (None, 17, 17, 192)  0           batch_normalization_70[0][0]     \n",
      "__________________________________________________________________________________________________\n",
      "activation_74 (Activation)      (None, 17, 17, 192)  0           batch_normalization_74[0][0]     \n",
      "__________________________________________________________________________________________________\n",
      "conv2d_71 (Conv2D)              (None, 8, 8, 320)    552960      activation_70[0][0]              \n",
      "__________________________________________________________________________________________________\n",
      "conv2d_75 (Conv2D)              (None, 8, 8, 192)    331776      activation_74[0][0]              \n",
      "__________________________________________________________________________________________________\n",
      "batch_normalization_71 (BatchNo (None, 8, 8, 320)    960         conv2d_71[0][0]                  \n",
      "__________________________________________________________________________________________________\n",
      "batch_normalization_75 (BatchNo (None, 8, 8, 192)    576         conv2d_75[0][0]                  \n",
      "__________________________________________________________________________________________________\n",
      "activation_71 (Activation)      (None, 8, 8, 320)    0           batch_normalization_71[0][0]     \n",
      "__________________________________________________________________________________________________\n",
      "activation_75 (Activation)      (None, 8, 8, 192)    0           batch_normalization_75[0][0]     \n",
      "__________________________________________________________________________________________________\n",
      "max_pooling2d_3 (MaxPooling2D)  (None, 8, 8, 768)    0           mixed7[0][0]                     \n",
      "__________________________________________________________________________________________________\n",
      "mixed8 (Concatenate)            (None, 8, 8, 1280)   0           activation_71[0][0]              \n",
      "                                                                 activation_75[0][0]              \n",
      "                                                                 max_pooling2d_3[0][0]            \n",
      "__________________________________________________________________________________________________\n",
      "conv2d_80 (Conv2D)              (None, 8, 8, 448)    573440      mixed8[0][0]                     \n",
      "__________________________________________________________________________________________________\n",
      "batch_normalization_80 (BatchNo (None, 8, 8, 448)    1344        conv2d_80[0][0]                  \n",
      "__________________________________________________________________________________________________\n",
      "activation_80 (Activation)      (None, 8, 8, 448)    0           batch_normalization_80[0][0]     \n",
      "__________________________________________________________________________________________________\n",
      "conv2d_77 (Conv2D)              (None, 8, 8, 384)    491520      mixed8[0][0]                     \n",
      "__________________________________________________________________________________________________\n",
      "conv2d_81 (Conv2D)              (None, 8, 8, 384)    1548288     activation_80[0][0]              \n",
      "__________________________________________________________________________________________________\n",
      "batch_normalization_77 (BatchNo (None, 8, 8, 384)    1152        conv2d_77[0][0]                  \n",
      "__________________________________________________________________________________________________\n",
      "batch_normalization_81 (BatchNo (None, 8, 8, 384)    1152        conv2d_81[0][0]                  \n",
      "__________________________________________________________________________________________________\n",
      "activation_77 (Activation)      (None, 8, 8, 384)    0           batch_normalization_77[0][0]     \n",
      "__________________________________________________________________________________________________\n",
      "activation_81 (Activation)      (None, 8, 8, 384)    0           batch_normalization_81[0][0]     \n",
      "__________________________________________________________________________________________________\n",
      "conv2d_78 (Conv2D)              (None, 8, 8, 384)    442368      activation_77[0][0]              \n",
      "__________________________________________________________________________________________________\n",
      "conv2d_79 (Conv2D)              (None, 8, 8, 384)    442368      activation_77[0][0]              \n",
      "__________________________________________________________________________________________________\n",
      "conv2d_82 (Conv2D)              (None, 8, 8, 384)    442368      activation_81[0][0]              \n",
      "__________________________________________________________________________________________________\n",
      "conv2d_83 (Conv2D)              (None, 8, 8, 384)    442368      activation_81[0][0]              \n",
      "__________________________________________________________________________________________________\n",
      "average_pooling2d_7 (AveragePoo (None, 8, 8, 1280)   0           mixed8[0][0]                     \n",
      "__________________________________________________________________________________________________\n",
      "conv2d_76 (Conv2D)              (None, 8, 8, 320)    409600      mixed8[0][0]                     \n",
      "__________________________________________________________________________________________________\n",
      "batch_normalization_78 (BatchNo (None, 8, 8, 384)    1152        conv2d_78[0][0]                  \n",
      "__________________________________________________________________________________________________\n",
      "batch_normalization_79 (BatchNo (None, 8, 8, 384)    1152        conv2d_79[0][0]                  \n",
      "__________________________________________________________________________________________________\n",
      "batch_normalization_82 (BatchNo (None, 8, 8, 384)    1152        conv2d_82[0][0]                  \n",
      "__________________________________________________________________________________________________\n",
      "batch_normalization_83 (BatchNo (None, 8, 8, 384)    1152        conv2d_83[0][0]                  \n",
      "__________________________________________________________________________________________________\n",
      "conv2d_84 (Conv2D)              (None, 8, 8, 192)    245760      average_pooling2d_7[0][0]        \n",
      "__________________________________________________________________________________________________\n",
      "batch_normalization_76 (BatchNo (None, 8, 8, 320)    960         conv2d_76[0][0]                  \n",
      "__________________________________________________________________________________________________\n",
      "activation_78 (Activation)      (None, 8, 8, 384)    0           batch_normalization_78[0][0]     \n",
      "__________________________________________________________________________________________________\n",
      "activation_79 (Activation)      (None, 8, 8, 384)    0           batch_normalization_79[0][0]     \n",
      "__________________________________________________________________________________________________\n",
      "activation_82 (Activation)      (None, 8, 8, 384)    0           batch_normalization_82[0][0]     \n",
      "__________________________________________________________________________________________________\n",
      "activation_83 (Activation)      (None, 8, 8, 384)    0           batch_normalization_83[0][0]     \n",
      "__________________________________________________________________________________________________\n",
      "batch_normalization_84 (BatchNo (None, 8, 8, 192)    576         conv2d_84[0][0]                  \n",
      "__________________________________________________________________________________________________\n",
      "activation_76 (Activation)      (None, 8, 8, 320)    0           batch_normalization_76[0][0]     \n",
      "__________________________________________________________________________________________________\n",
      "mixed9_0 (Concatenate)          (None, 8, 8, 768)    0           activation_78[0][0]              \n",
      "                                                                 activation_79[0][0]              \n",
      "__________________________________________________________________________________________________\n",
      "concatenate (Concatenate)       (None, 8, 8, 768)    0           activation_82[0][0]              \n",
      "                                                                 activation_83[0][0]              \n",
      "__________________________________________________________________________________________________\n",
      "activation_84 (Activation)      (None, 8, 8, 192)    0           batch_normalization_84[0][0]     \n",
      "__________________________________________________________________________________________________\n",
      "mixed9 (Concatenate)            (None, 8, 8, 2048)   0           activation_76[0][0]              \n",
      "                                                                 mixed9_0[0][0]                   \n",
      "                                                                 concatenate[0][0]                \n",
      "                                                                 activation_84[0][0]              \n",
      "__________________________________________________________________________________________________\n",
      "conv2d_89 (Conv2D)              (None, 8, 8, 448)    917504      mixed9[0][0]                     \n",
      "__________________________________________________________________________________________________\n",
      "batch_normalization_89 (BatchNo (None, 8, 8, 448)    1344        conv2d_89[0][0]                  \n",
      "__________________________________________________________________________________________________\n",
      "activation_89 (Activation)      (None, 8, 8, 448)    0           batch_normalization_89[0][0]     \n",
      "__________________________________________________________________________________________________\n",
      "conv2d_86 (Conv2D)              (None, 8, 8, 384)    786432      mixed9[0][0]                     \n",
      "__________________________________________________________________________________________________\n",
      "conv2d_90 (Conv2D)              (None, 8, 8, 384)    1548288     activation_89[0][0]              \n",
      "__________________________________________________________________________________________________\n",
      "batch_normalization_86 (BatchNo (None, 8, 8, 384)    1152        conv2d_86[0][0]                  \n",
      "__________________________________________________________________________________________________\n",
      "batch_normalization_90 (BatchNo (None, 8, 8, 384)    1152        conv2d_90[0][0]                  \n",
      "__________________________________________________________________________________________________\n",
      "activation_86 (Activation)      (None, 8, 8, 384)    0           batch_normalization_86[0][0]     \n",
      "__________________________________________________________________________________________________\n",
      "activation_90 (Activation)      (None, 8, 8, 384)    0           batch_normalization_90[0][0]     \n",
      "__________________________________________________________________________________________________\n",
      "conv2d_87 (Conv2D)              (None, 8, 8, 384)    442368      activation_86[0][0]              \n",
      "__________________________________________________________________________________________________\n",
      "conv2d_88 (Conv2D)              (None, 8, 8, 384)    442368      activation_86[0][0]              \n",
      "__________________________________________________________________________________________________\n",
      "conv2d_91 (Conv2D)              (None, 8, 8, 384)    442368      activation_90[0][0]              \n",
      "__________________________________________________________________________________________________\n",
      "conv2d_92 (Conv2D)              (None, 8, 8, 384)    442368      activation_90[0][0]              \n",
      "__________________________________________________________________________________________________\n",
      "average_pooling2d_8 (AveragePoo (None, 8, 8, 2048)   0           mixed9[0][0]                     \n",
      "__________________________________________________________________________________________________\n",
      "conv2d_85 (Conv2D)              (None, 8, 8, 320)    655360      mixed9[0][0]                     \n",
      "__________________________________________________________________________________________________\n",
      "batch_normalization_87 (BatchNo (None, 8, 8, 384)    1152        conv2d_87[0][0]                  \n",
      "__________________________________________________________________________________________________\n",
      "batch_normalization_88 (BatchNo (None, 8, 8, 384)    1152        conv2d_88[0][0]                  \n",
      "__________________________________________________________________________________________________\n",
      "batch_normalization_91 (BatchNo (None, 8, 8, 384)    1152        conv2d_91[0][0]                  \n",
      "__________________________________________________________________________________________________\n",
      "batch_normalization_92 (BatchNo (None, 8, 8, 384)    1152        conv2d_92[0][0]                  \n",
      "__________________________________________________________________________________________________\n",
      "conv2d_93 (Conv2D)              (None, 8, 8, 192)    393216      average_pooling2d_8[0][0]        \n",
      "__________________________________________________________________________________________________\n",
      "batch_normalization_85 (BatchNo (None, 8, 8, 320)    960         conv2d_85[0][0]                  \n",
      "__________________________________________________________________________________________________\n",
      "activation_87 (Activation)      (None, 8, 8, 384)    0           batch_normalization_87[0][0]     \n",
      "__________________________________________________________________________________________________\n",
      "activation_88 (Activation)      (None, 8, 8, 384)    0           batch_normalization_88[0][0]     \n",
      "__________________________________________________________________________________________________\n",
      "activation_91 (Activation)      (None, 8, 8, 384)    0           batch_normalization_91[0][0]     \n",
      "__________________________________________________________________________________________________\n",
      "activation_92 (Activation)      (None, 8, 8, 384)    0           batch_normalization_92[0][0]     \n",
      "__________________________________________________________________________________________________\n",
      "batch_normalization_93 (BatchNo (None, 8, 8, 192)    576         conv2d_93[0][0]                  \n",
      "__________________________________________________________________________________________________\n",
      "activation_85 (Activation)      (None, 8, 8, 320)    0           batch_normalization_85[0][0]     \n",
      "__________________________________________________________________________________________________\n",
      "mixed9_1 (Concatenate)          (None, 8, 8, 768)    0           activation_87[0][0]              \n",
      "                                                                 activation_88[0][0]              \n",
      "__________________________________________________________________________________________________\n",
      "concatenate_1 (Concatenate)     (None, 8, 8, 768)    0           activation_91[0][0]              \n",
      "                                                                 activation_92[0][0]              \n",
      "__________________________________________________________________________________________________\n",
      "activation_93 (Activation)      (None, 8, 8, 192)    0           batch_normalization_93[0][0]     \n",
      "__________________________________________________________________________________________________\n",
      "mixed10 (Concatenate)           (None, 8, 8, 2048)   0           activation_85[0][0]              \n",
      "                                                                 mixed9_1[0][0]                   \n",
      "                                                                 concatenate_1[0][0]              \n",
      "                                                                 activation_93[0][0]              \n",
      "==================================================================================================\n",
      "Total params: 21,802,784\n",
      "Trainable params: 21,768,352\n",
      "Non-trainable params: 34,432\n",
      "__________________________________________________________________________________________________\n"
     ]
    }
   ],
   "source": [
    "inception_base.summary()"
   ]
  },
  {
   "cell_type": "code",
   "execution_count": 16,
   "metadata": {
    "colab": {
     "base_uri": "https://localhost:8080/"
    },
    "executionInfo": {
     "elapsed": 1387,
     "status": "ok",
     "timestamp": 1616579627193,
     "user": {
      "displayName": "Japesh Methuku",
      "photoUrl": "https://lh3.googleusercontent.com/a-/AOh14GhIKOAgp633EafFGXJ2ysfjv6TjAjQkWNXhVWhH=s64",
      "userId": "12446060370058677993"
     },
     "user_tz": 0
    },
    "id": "8Q6ZQJpFKSjy",
    "outputId": "20f50885-4d95-4db2-b653-4f29b4805035"
   },
   "outputs": [
    {
     "name": "stdout",
     "output_type": "stream",
     "text": [
      "Model: \"sequential\"\n",
      "_________________________________________________________________\n",
      "Layer (type)                 Output Shape              Param #   \n",
      "=================================================================\n",
      "inception_v3 (Functional)    (None, 8, 8, 2048)        21802784  \n",
      "_________________________________________________________________\n",
      "global_average_pooling2d (Gl (None, 2048)              0         \n",
      "_________________________________________________________________\n",
      "dropout (Dropout)            (None, 2048)              0         \n",
      "_________________________________________________________________\n",
      "dense (Dense)                (None, 512)               1049088   \n",
      "_________________________________________________________________\n",
      "dropout_1 (Dropout)          (None, 512)               0         \n",
      "_________________________________________________________________\n",
      "dense_1 (Dense)              (None, 256)               131328    \n",
      "_________________________________________________________________\n",
      "dense_2 (Dense)              (None, 2)                 514       \n",
      "=================================================================\n",
      "Total params: 22,983,714\n",
      "Trainable params: 22,949,282\n",
      "Non-trainable params: 34,432\n",
      "_________________________________________________________________\n"
     ]
    }
   ],
   "source": [
    "model = models.Sequential()\n",
    "model.add(inception_base)\n",
    "model.add(keras.layers.GlobalAveragePooling2D())\n",
    "#model.add(keras.layers.Dropout(0.3))\n",
    "#model.add(keras.layers.Dense(1024, activation='relu'))\n",
    "model.add(keras.layers.Dropout(0.4))\n",
    "model.add(keras.layers.Dense(512, activation='relu'))\n",
    "#model.add(keras.layers.BatchNormalization())\n",
    "model.add(keras.layers.Dropout(0.5))\n",
    "model.add(keras.layers.Dense(256, activation='relu'))\n",
    "model.add(keras.layers.Dense(2, activation= 'softmax'))\n",
    "model.summary()"
   ]
  },
  {
   "cell_type": "code",
   "execution_count": 17,
   "metadata": {
    "id": "Nx_ch2EnL3go"
   },
   "outputs": [],
   "source": [
    "inception_base.trainable = False\n",
    "inception_base.training = False"
   ]
  },
  {
   "cell_type": "code",
   "execution_count": 18,
   "metadata": {
    "colab": {
     "base_uri": "https://localhost:8080/"
    },
    "executionInfo": {
     "elapsed": 435,
     "status": "ok",
     "timestamp": 1616579630750,
     "user": {
      "displayName": "Japesh Methuku",
      "photoUrl": "https://lh3.googleusercontent.com/a-/AOh14GhIKOAgp633EafFGXJ2ysfjv6TjAjQkWNXhVWhH=s64",
      "userId": "12446060370058677993"
     },
     "user_tz": 0
    },
    "id": "4--vz1RpL6vc",
    "outputId": "61c44745-79b2-4fb2-ab1e-0c3f127d4b13"
   },
   "outputs": [
    {
     "name": "stdout",
     "output_type": "stream",
     "text": [
      "Model: \"sequential\"\n",
      "_________________________________________________________________\n",
      "Layer (type)                 Output Shape              Param #   \n",
      "=================================================================\n",
      "inception_v3 (Functional)    (None, 8, 8, 2048)        21802784  \n",
      "_________________________________________________________________\n",
      "global_average_pooling2d (Gl (None, 2048)              0         \n",
      "_________________________________________________________________\n",
      "dropout (Dropout)            (None, 2048)              0         \n",
      "_________________________________________________________________\n",
      "dense (Dense)                (None, 512)               1049088   \n",
      "_________________________________________________________________\n",
      "dropout_1 (Dropout)          (None, 512)               0         \n",
      "_________________________________________________________________\n",
      "dense_1 (Dense)              (None, 256)               131328    \n",
      "_________________________________________________________________\n",
      "dense_2 (Dense)              (None, 2)                 514       \n",
      "=================================================================\n",
      "Total params: 22,983,714\n",
      "Trainable params: 1,180,930\n",
      "Non-trainable params: 21,802,784\n",
      "_________________________________________________________________\n"
     ]
    }
   ],
   "source": [
    "model.summary()"
   ]
  },
  {
   "cell_type": "markdown",
   "metadata": {
    "id": "M1WM8nzpHOVt"
   },
   "source": [
    "## **Compile the model**"
   ]
  },
  {
   "cell_type": "code",
   "execution_count": 19,
   "metadata": {
    "id": "Bx-PL-65L-Co"
   },
   "outputs": [],
   "source": [
    "learning_rate = 1e-4\n",
    "model.compile(optimizer=keras.optimizers.SGD(lr=learning_rate, \n",
    "                                             momentum=0.9, \n",
    "                                             nesterov= False), \n",
    "              loss='categorical_crossentropy', \n",
    "              metrics=['accuracy'])"
   ]
  },
  {
   "cell_type": "code",
   "execution_count": 31,
   "metadata": {
    "id": "JE3eqVJIMIi3"
   },
   "outputs": [],
   "source": [
    "callbacks_list = [keras.callbacks.ModelCheckpoint(\n",
    "        filepath = '../models/inception-model.h5',\n",
    "        monitor = 'val_accuracy',\n",
    "        verbose=1,\n",
    "        save_best_only = True),\n",
    "        keras.callbacks.EarlyStopping(\n",
    "            monitor= 'val_accuracy',\n",
    "            patience = 6,\n",
    "            mode = 'max',\n",
    "            verbose= 1\n",
    "        )]"
   ]
  },
  {
   "cell_type": "markdown",
   "metadata": {
    "id": "ncjMo35kHU3G"
   },
   "source": [
    "## **Train the model**"
   ]
  },
  {
   "cell_type": "code",
   "execution_count": 32,
   "metadata": {
    "colab": {
     "base_uri": "https://localhost:8080/"
    },
    "executionInfo": {
     "elapsed": 232969,
     "status": "ok",
     "timestamp": 1616579880298,
     "user": {
      "displayName": "Japesh Methuku",
      "photoUrl": "https://lh3.googleusercontent.com/a-/AOh14GhIKOAgp633EafFGXJ2ysfjv6TjAjQkWNXhVWhH=s64",
      "userId": "12446060370058677993"
     },
     "user_tz": 0
    },
    "id": "x4X3vUevMO-_",
    "outputId": "037ce9c5-b7ef-4588-c769-4286b7048d25"
   },
   "outputs": [
    {
     "name": "stdout",
     "output_type": "stream",
     "text": [
      "Epoch 1/4\n",
      "13/13 [==============================] - 4s 280ms/step - loss: 0.5713 - accuracy: 0.7108 - val_loss: 0.4853 - val_accuracy: 0.8382\n",
      "Epoch 2/4\n",
      "13/13 [==============================] - 4s 271ms/step - loss: 0.5403 - accuracy: 0.7010 - val_loss: 0.4455 - val_accuracy: 0.8382\n",
      "Epoch 3/4\n",
      "13/13 [==============================] - 4s 275ms/step - loss: 0.4955 - accuracy: 0.8039 - val_loss: 0.4062 - val_accuracy: 0.8529\n",
      "Epoch 4/4\n",
      "13/13 [==============================] - 4s 269ms/step - loss: 0.4612 - accuracy: 0.7941 - val_loss: 0.3811 - val_accuracy: 0.8676\n"
     ]
    }
   ],
   "source": [
    "n_epochs = 4\n",
    "history = model.fit(train_datagen,\n",
    "                    steps_per_epoch=len(train_datagen.filenames)//training_batch_size,\n",
    "                    epochs=n_epochs,\n",
    "                    validation_data=val_datagen,\n",
    "                    validation_steps = int(np.ceil(len(val_datagen.filenames)/validation_batch_size)))"
   ]
  },
  {
   "cell_type": "markdown",
   "metadata": {
    "id": "Ipig1FSjX0pi"
   },
   "source": [
    "## **Fine tune the model**"
   ]
  },
  {
   "cell_type": "code",
   "execution_count": 33,
   "metadata": {
    "id": "JImLMCS1baHm"
   },
   "outputs": [],
   "source": [
    "inception_base.trainable = True\n",
    "set_trainable = False\n",
    "for layer in inception_base.layers[:249]:\n",
    "    set_trainable = False\n",
    "    if set_trainable:\n",
    "        layer.trainable = True\n",
    "    else:\n",
    "        layer.trainable= False"
   ]
  },
  {
   "cell_type": "code",
   "execution_count": 34,
   "metadata": {
    "id": "fbEe1k5LYS9t"
   },
   "outputs": [],
   "source": [
    "for layer in inception_base.layers[249:]:\n",
    "    if isinstance(layer, keras.layers.BatchNormalization):\n",
    "        layer.trainable = False"
   ]
  },
  {
   "cell_type": "code",
   "execution_count": 35,
   "metadata": {
    "colab": {
     "base_uri": "https://localhost:8080/"
    },
    "executionInfo": {
     "elapsed": 659,
     "status": "ok",
     "timestamp": 1616579897542,
     "user": {
      "displayName": "Japesh Methuku",
      "photoUrl": "https://lh3.googleusercontent.com/a-/AOh14GhIKOAgp633EafFGXJ2ysfjv6TjAjQkWNXhVWhH=s64",
      "userId": "12446060370058677993"
     },
     "user_tz": 0
    },
    "id": "3q3WGT-0YcNQ",
    "outputId": "23d7ad7b-8703-47ee-b631-d1104bb776e3"
   },
   "outputs": [
    {
     "name": "stdout",
     "output_type": "stream",
     "text": [
      "0 input_1 False\n",
      "1 conv2d False\n",
      "2 batch_normalization False\n",
      "3 activation False\n",
      "4 conv2d_1 False\n",
      "5 batch_normalization_1 False\n",
      "6 activation_1 False\n",
      "7 conv2d_2 False\n",
      "8 batch_normalization_2 False\n",
      "9 activation_2 False\n",
      "10 max_pooling2d False\n",
      "11 conv2d_3 False\n",
      "12 batch_normalization_3 False\n",
      "13 activation_3 False\n",
      "14 conv2d_4 False\n",
      "15 batch_normalization_4 False\n",
      "16 activation_4 False\n",
      "17 max_pooling2d_1 False\n",
      "18 conv2d_8 False\n",
      "19 batch_normalization_8 False\n",
      "20 activation_8 False\n",
      "21 conv2d_6 False\n",
      "22 conv2d_9 False\n",
      "23 batch_normalization_6 False\n",
      "24 batch_normalization_9 False\n",
      "25 activation_6 False\n",
      "26 activation_9 False\n",
      "27 average_pooling2d False\n",
      "28 conv2d_5 False\n",
      "29 conv2d_7 False\n",
      "30 conv2d_10 False\n",
      "31 conv2d_11 False\n",
      "32 batch_normalization_5 False\n",
      "33 batch_normalization_7 False\n",
      "34 batch_normalization_10 False\n",
      "35 batch_normalization_11 False\n",
      "36 activation_5 False\n",
      "37 activation_7 False\n",
      "38 activation_10 False\n",
      "39 activation_11 False\n",
      "40 mixed0 False\n",
      "41 conv2d_15 False\n",
      "42 batch_normalization_15 False\n",
      "43 activation_15 False\n",
      "44 conv2d_13 False\n",
      "45 conv2d_16 False\n",
      "46 batch_normalization_13 False\n",
      "47 batch_normalization_16 False\n",
      "48 activation_13 False\n",
      "49 activation_16 False\n",
      "50 average_pooling2d_1 False\n",
      "51 conv2d_12 False\n",
      "52 conv2d_14 False\n",
      "53 conv2d_17 False\n",
      "54 conv2d_18 False\n",
      "55 batch_normalization_12 False\n",
      "56 batch_normalization_14 False\n",
      "57 batch_normalization_17 False\n",
      "58 batch_normalization_18 False\n",
      "59 activation_12 False\n",
      "60 activation_14 False\n",
      "61 activation_17 False\n",
      "62 activation_18 False\n",
      "63 mixed1 False\n",
      "64 conv2d_22 False\n",
      "65 batch_normalization_22 False\n",
      "66 activation_22 False\n",
      "67 conv2d_20 False\n",
      "68 conv2d_23 False\n",
      "69 batch_normalization_20 False\n",
      "70 batch_normalization_23 False\n",
      "71 activation_20 False\n",
      "72 activation_23 False\n",
      "73 average_pooling2d_2 False\n",
      "74 conv2d_19 False\n",
      "75 conv2d_21 False\n",
      "76 conv2d_24 False\n",
      "77 conv2d_25 False\n",
      "78 batch_normalization_19 False\n",
      "79 batch_normalization_21 False\n",
      "80 batch_normalization_24 False\n",
      "81 batch_normalization_25 False\n",
      "82 activation_19 False\n",
      "83 activation_21 False\n",
      "84 activation_24 False\n",
      "85 activation_25 False\n",
      "86 mixed2 False\n",
      "87 conv2d_27 False\n",
      "88 batch_normalization_27 False\n",
      "89 activation_27 False\n",
      "90 conv2d_28 False\n",
      "91 batch_normalization_28 False\n",
      "92 activation_28 False\n",
      "93 conv2d_26 False\n",
      "94 conv2d_29 False\n",
      "95 batch_normalization_26 False\n",
      "96 batch_normalization_29 False\n",
      "97 activation_26 False\n",
      "98 activation_29 False\n",
      "99 max_pooling2d_2 False\n",
      "100 mixed3 False\n",
      "101 conv2d_34 False\n",
      "102 batch_normalization_34 False\n",
      "103 activation_34 False\n",
      "104 conv2d_35 False\n",
      "105 batch_normalization_35 False\n",
      "106 activation_35 False\n",
      "107 conv2d_31 False\n",
      "108 conv2d_36 False\n",
      "109 batch_normalization_31 False\n",
      "110 batch_normalization_36 False\n",
      "111 activation_31 False\n",
      "112 activation_36 False\n",
      "113 conv2d_32 False\n",
      "114 conv2d_37 False\n",
      "115 batch_normalization_32 False\n",
      "116 batch_normalization_37 False\n",
      "117 activation_32 False\n",
      "118 activation_37 False\n",
      "119 average_pooling2d_3 False\n",
      "120 conv2d_30 False\n",
      "121 conv2d_33 False\n",
      "122 conv2d_38 False\n",
      "123 conv2d_39 False\n",
      "124 batch_normalization_30 False\n",
      "125 batch_normalization_33 False\n",
      "126 batch_normalization_38 False\n",
      "127 batch_normalization_39 False\n",
      "128 activation_30 False\n",
      "129 activation_33 False\n",
      "130 activation_38 False\n",
      "131 activation_39 False\n",
      "132 mixed4 False\n",
      "133 conv2d_44 False\n",
      "134 batch_normalization_44 False\n",
      "135 activation_44 False\n",
      "136 conv2d_45 False\n",
      "137 batch_normalization_45 False\n",
      "138 activation_45 False\n",
      "139 conv2d_41 False\n",
      "140 conv2d_46 False\n",
      "141 batch_normalization_41 False\n",
      "142 batch_normalization_46 False\n",
      "143 activation_41 False\n",
      "144 activation_46 False\n",
      "145 conv2d_42 False\n",
      "146 conv2d_47 False\n",
      "147 batch_normalization_42 False\n",
      "148 batch_normalization_47 False\n",
      "149 activation_42 False\n",
      "150 activation_47 False\n",
      "151 average_pooling2d_4 False\n",
      "152 conv2d_40 False\n",
      "153 conv2d_43 False\n",
      "154 conv2d_48 False\n",
      "155 conv2d_49 False\n",
      "156 batch_normalization_40 False\n",
      "157 batch_normalization_43 False\n",
      "158 batch_normalization_48 False\n",
      "159 batch_normalization_49 False\n",
      "160 activation_40 False\n",
      "161 activation_43 False\n",
      "162 activation_48 False\n",
      "163 activation_49 False\n",
      "164 mixed5 False\n",
      "165 conv2d_54 False\n",
      "166 batch_normalization_54 False\n",
      "167 activation_54 False\n",
      "168 conv2d_55 False\n",
      "169 batch_normalization_55 False\n",
      "170 activation_55 False\n",
      "171 conv2d_51 False\n",
      "172 conv2d_56 False\n",
      "173 batch_normalization_51 False\n",
      "174 batch_normalization_56 False\n",
      "175 activation_51 False\n",
      "176 activation_56 False\n",
      "177 conv2d_52 False\n",
      "178 conv2d_57 False\n",
      "179 batch_normalization_52 False\n",
      "180 batch_normalization_57 False\n",
      "181 activation_52 False\n",
      "182 activation_57 False\n",
      "183 average_pooling2d_5 False\n",
      "184 conv2d_50 False\n",
      "185 conv2d_53 False\n",
      "186 conv2d_58 False\n",
      "187 conv2d_59 False\n",
      "188 batch_normalization_50 False\n",
      "189 batch_normalization_53 False\n",
      "190 batch_normalization_58 False\n",
      "191 batch_normalization_59 False\n",
      "192 activation_50 False\n",
      "193 activation_53 False\n",
      "194 activation_58 False\n",
      "195 activation_59 False\n",
      "196 mixed6 False\n",
      "197 conv2d_64 False\n",
      "198 batch_normalization_64 False\n",
      "199 activation_64 False\n",
      "200 conv2d_65 False\n",
      "201 batch_normalization_65 False\n",
      "202 activation_65 False\n",
      "203 conv2d_61 False\n",
      "204 conv2d_66 False\n",
      "205 batch_normalization_61 False\n",
      "206 batch_normalization_66 False\n",
      "207 activation_61 False\n",
      "208 activation_66 False\n",
      "209 conv2d_62 False\n",
      "210 conv2d_67 False\n",
      "211 batch_normalization_62 False\n",
      "212 batch_normalization_67 False\n",
      "213 activation_62 False\n",
      "214 activation_67 False\n",
      "215 average_pooling2d_6 False\n",
      "216 conv2d_60 False\n",
      "217 conv2d_63 False\n",
      "218 conv2d_68 False\n",
      "219 conv2d_69 False\n",
      "220 batch_normalization_60 False\n",
      "221 batch_normalization_63 False\n",
      "222 batch_normalization_68 False\n",
      "223 batch_normalization_69 False\n",
      "224 activation_60 False\n",
      "225 activation_63 False\n",
      "226 activation_68 False\n",
      "227 activation_69 False\n",
      "228 mixed7 False\n",
      "229 conv2d_72 False\n",
      "230 batch_normalization_72 False\n",
      "231 activation_72 False\n",
      "232 conv2d_73 False\n",
      "233 batch_normalization_73 False\n",
      "234 activation_73 False\n",
      "235 conv2d_70 False\n",
      "236 conv2d_74 False\n",
      "237 batch_normalization_70 False\n",
      "238 batch_normalization_74 False\n",
      "239 activation_70 False\n",
      "240 activation_74 False\n",
      "241 conv2d_71 False\n",
      "242 conv2d_75 False\n",
      "243 batch_normalization_71 False\n",
      "244 batch_normalization_75 False\n",
      "245 activation_71 False\n",
      "246 activation_75 False\n",
      "247 max_pooling2d_3 False\n",
      "248 mixed8 False\n",
      "249 conv2d_80 True\n",
      "250 batch_normalization_80 False\n",
      "251 activation_80 True\n",
      "252 conv2d_77 True\n",
      "253 conv2d_81 True\n",
      "254 batch_normalization_77 False\n",
      "255 batch_normalization_81 False\n",
      "256 activation_77 True\n",
      "257 activation_81 True\n",
      "258 conv2d_78 True\n",
      "259 conv2d_79 True\n",
      "260 conv2d_82 True\n",
      "261 conv2d_83 True\n",
      "262 average_pooling2d_7 True\n",
      "263 conv2d_76 True\n",
      "264 batch_normalization_78 False\n",
      "265 batch_normalization_79 False\n",
      "266 batch_normalization_82 False\n",
      "267 batch_normalization_83 False\n",
      "268 conv2d_84 True\n",
      "269 batch_normalization_76 False\n",
      "270 activation_78 True\n",
      "271 activation_79 True\n",
      "272 activation_82 True\n",
      "273 activation_83 True\n",
      "274 batch_normalization_84 False\n",
      "275 activation_76 True\n",
      "276 mixed9_0 True\n",
      "277 concatenate True\n",
      "278 activation_84 True\n",
      "279 mixed9 True\n",
      "280 conv2d_89 True\n",
      "281 batch_normalization_89 False\n",
      "282 activation_89 True\n",
      "283 conv2d_86 True\n",
      "284 conv2d_90 True\n",
      "285 batch_normalization_86 False\n",
      "286 batch_normalization_90 False\n",
      "287 activation_86 True\n",
      "288 activation_90 True\n",
      "289 conv2d_87 True\n",
      "290 conv2d_88 True\n",
      "291 conv2d_91 True\n",
      "292 conv2d_92 True\n",
      "293 average_pooling2d_8 True\n",
      "294 conv2d_85 True\n",
      "295 batch_normalization_87 False\n",
      "296 batch_normalization_88 False\n",
      "297 batch_normalization_91 False\n",
      "298 batch_normalization_92 False\n",
      "299 conv2d_93 True\n",
      "300 batch_normalization_85 False\n",
      "301 activation_87 True\n",
      "302 activation_88 True\n",
      "303 activation_91 True\n",
      "304 activation_92 True\n",
      "305 batch_normalization_93 False\n",
      "306 activation_85 True\n",
      "307 mixed9_1 True\n",
      "308 concatenate_1 True\n",
      "309 activation_93 True\n",
      "310 mixed10 True\n"
     ]
    }
   ],
   "source": [
    "for i, layer in enumerate(inception_base.layers):\n",
    "    print(i, layer.name, layer.trainable)"
   ]
  },
  {
   "cell_type": "code",
   "execution_count": 36,
   "metadata": {
    "id": "y_O8Xa3VY1iC"
   },
   "outputs": [],
   "source": [
    "learning_rate = 1e-4\n",
    "model.compile(optimizer=keras.optimizers.SGD(lr=learning_rate, \n",
    "                                             momentum=0.9, \n",
    "                                             nesterov = False), \n",
    "              loss='categorical_crossentropy', \n",
    "              metrics=['accuracy'])"
   ]
  },
  {
   "cell_type": "code",
   "execution_count": 37,
   "metadata": {
    "colab": {
     "base_uri": "https://localhost:8080/"
    },
    "executionInfo": {
     "elapsed": 685,
     "status": "ok",
     "timestamp": 1616579911976,
     "user": {
      "displayName": "Japesh Methuku",
      "photoUrl": "https://lh3.googleusercontent.com/a-/AOh14GhIKOAgp633EafFGXJ2ysfjv6TjAjQkWNXhVWhH=s64",
      "userId": "12446060370058677993"
     },
     "user_tz": 0
    },
    "id": "VOStZbYuZuUN",
    "outputId": "635335a0-236f-4db9-cef9-4c41476026b5"
   },
   "outputs": [
    {
     "name": "stdout",
     "output_type": "stream",
     "text": [
      "Model: \"sequential\"\n",
      "_________________________________________________________________\n",
      "Layer (type)                 Output Shape              Param #   \n",
      "=================================================================\n",
      "inception_v3 (Functional)    (None, 8, 8, 2048)        21802784  \n",
      "_________________________________________________________________\n",
      "global_average_pooling2d (Gl (None, 2048)              0         \n",
      "_________________________________________________________________\n",
      "dropout (Dropout)            (None, 2048)              0         \n",
      "_________________________________________________________________\n",
      "dense (Dense)                (None, 512)               1049088   \n",
      "_________________________________________________________________\n",
      "dropout_1 (Dropout)          (None, 512)               0         \n",
      "_________________________________________________________________\n",
      "dense_1 (Dense)              (None, 256)               131328    \n",
      "_________________________________________________________________\n",
      "dense_2 (Dense)              (None, 2)                 514       \n",
      "=================================================================\n",
      "Total params: 22,983,714\n",
      "Trainable params: 12,289,282\n",
      "Non-trainable params: 10,694,432\n",
      "_________________________________________________________________\n"
     ]
    }
   ],
   "source": [
    "model.summary()"
   ]
  },
  {
   "cell_type": "code",
   "execution_count": 38,
   "metadata": {
    "colab": {
     "base_uri": "https://localhost:8080/"
    },
    "executionInfo": {
     "elapsed": 1335352,
     "status": "ok",
     "timestamp": 1616581923310,
     "user": {
      "displayName": "Japesh Methuku",
      "photoUrl": "https://lh3.googleusercontent.com/a-/AOh14GhIKOAgp633EafFGXJ2ysfjv6TjAjQkWNXhVWhH=s64",
      "userId": "12446060370058677993"
     },
     "user_tz": 0
    },
    "id": "tNuvG-wNY_rz",
    "outputId": "06413b3c-5efc-43f9-cd5f-d14062129dc3"
   },
   "outputs": [
    {
     "name": "stdout",
     "output_type": "stream",
     "text": [
      "Epoch 1/40\n",
      "13/13 [==============================] - 7s 341ms/step - loss: 0.4778 - accuracy: 0.7971 - val_loss: 0.3666 - val_accuracy: 0.8529\n",
      "\n",
      "Epoch 00001: val_accuracy improved from -inf to 0.85294, saving model to ../models/inception-model.h5\n",
      "Epoch 2/40\n",
      "13/13 [==============================] - 3s 261ms/step - loss: 0.4246 - accuracy: 0.8142 - val_loss: 0.3396 - val_accuracy: 0.8529\n",
      "\n",
      "Epoch 00002: val_accuracy did not improve from 0.85294\n",
      "Epoch 3/40\n",
      "13/13 [==============================] - 3s 258ms/step - loss: 0.4776 - accuracy: 0.8333 - val_loss: 0.3246 - val_accuracy: 0.8676\n",
      "\n",
      "Epoch 00003: val_accuracy improved from 0.85294 to 0.86765, saving model to ../models/inception-model.h5\n",
      "Epoch 4/40\n",
      "13/13 [==============================] - 3s 265ms/step - loss: 0.4622 - accuracy: 0.7752 - val_loss: 0.3096 - val_accuracy: 0.8676\n",
      "\n",
      "Epoch 00004: val_accuracy did not improve from 0.86765\n",
      "Epoch 5/40\n",
      "13/13 [==============================] - 3s 270ms/step - loss: 0.4186 - accuracy: 0.8091 - val_loss: 0.3085 - val_accuracy: 0.8529\n",
      "\n",
      "Epoch 00005: val_accuracy did not improve from 0.86765\n",
      "Epoch 6/40\n",
      "13/13 [==============================] - 4s 272ms/step - loss: 0.3184 - accuracy: 0.8764 - val_loss: 0.2952 - val_accuracy: 0.8676\n",
      "\n",
      "Epoch 00006: val_accuracy did not improve from 0.86765\n",
      "Epoch 7/40\n",
      "13/13 [==============================] - 4s 268ms/step - loss: 0.3005 - accuracy: 0.9115 - val_loss: 0.2735 - val_accuracy: 0.8676\n",
      "\n",
      "Epoch 00007: val_accuracy did not improve from 0.86765\n",
      "Epoch 8/40\n",
      "13/13 [==============================] - 3s 258ms/step - loss: 0.4098 - accuracy: 0.8567 - val_loss: 0.2650 - val_accuracy: 0.8824\n",
      "\n",
      "Epoch 00008: val_accuracy improved from 0.86765 to 0.88235, saving model to ../models/inception-model.h5\n",
      "Epoch 9/40\n",
      "13/13 [==============================] - 4s 270ms/step - loss: 0.2974 - accuracy: 0.9015 - val_loss: 0.2561 - val_accuracy: 0.8824\n",
      "\n",
      "Epoch 00009: val_accuracy did not improve from 0.88235\n",
      "Epoch 10/40\n",
      "13/13 [==============================] - 3s 257ms/step - loss: 0.2783 - accuracy: 0.9020 - val_loss: 0.2434 - val_accuracy: 0.9118\n",
      "\n",
      "Epoch 00010: val_accuracy improved from 0.88235 to 0.91176, saving model to ../models/inception-model.h5\n",
      "Epoch 11/40\n",
      "13/13 [==============================] - 4s 272ms/step - loss: 0.3572 - accuracy: 0.8581 - val_loss: 0.2306 - val_accuracy: 0.8971\n",
      "\n",
      "Epoch 00011: val_accuracy did not improve from 0.91176\n",
      "Epoch 12/40\n",
      "13/13 [==============================] - 3s 260ms/step - loss: 0.2732 - accuracy: 0.9072 - val_loss: 0.2265 - val_accuracy: 0.9265\n",
      "\n",
      "Epoch 00012: val_accuracy improved from 0.91176 to 0.92647, saving model to ../models/inception-model.h5\n",
      "Epoch 13/40\n",
      "13/13 [==============================] - 4s 270ms/step - loss: 0.2352 - accuracy: 0.9215 - val_loss: 0.2186 - val_accuracy: 0.8971\n",
      "\n",
      "Epoch 00013: val_accuracy did not improve from 0.92647\n",
      "Epoch 14/40\n",
      "13/13 [==============================] - 3s 267ms/step - loss: 0.2671 - accuracy: 0.8951 - val_loss: 0.2138 - val_accuracy: 0.9118\n",
      "\n",
      "Epoch 00014: val_accuracy did not improve from 0.92647\n",
      "Epoch 15/40\n",
      "13/13 [==============================] - 4s 271ms/step - loss: 0.2570 - accuracy: 0.9083 - val_loss: 0.2076 - val_accuracy: 0.9265\n",
      "\n",
      "Epoch 00015: val_accuracy did not improve from 0.92647\n",
      "Epoch 16/40\n",
      "13/13 [==============================] - 3s 260ms/step - loss: 0.3022 - accuracy: 0.8743 - val_loss: 0.1930 - val_accuracy: 0.9118\n",
      "\n",
      "Epoch 00016: val_accuracy did not improve from 0.92647\n",
      "Epoch 17/40\n",
      "13/13 [==============================] - 4s 270ms/step - loss: 0.2837 - accuracy: 0.9262 - val_loss: 0.2031 - val_accuracy: 0.9118\n",
      "\n",
      "Epoch 00017: val_accuracy did not improve from 0.92647\n",
      "Epoch 18/40\n",
      "13/13 [==============================] - 4s 272ms/step - loss: 0.3446 - accuracy: 0.8229 - val_loss: 0.1808 - val_accuracy: 0.9412\n",
      "\n",
      "Epoch 00018: val_accuracy improved from 0.92647 to 0.94118, saving model to ../models/inception-model.h5\n",
      "Epoch 19/40\n",
      "13/13 [==============================] - 4s 271ms/step - loss: 0.2362 - accuracy: 0.9020 - val_loss: 0.1880 - val_accuracy: 0.9118\n",
      "\n",
      "Epoch 00019: val_accuracy did not improve from 0.94118\n",
      "Epoch 20/40\n",
      "13/13 [==============================] - 3s 264ms/step - loss: 0.2348 - accuracy: 0.9025 - val_loss: 0.1875 - val_accuracy: 0.9265\n",
      "\n",
      "Epoch 00020: val_accuracy did not improve from 0.94118\n",
      "Epoch 21/40\n",
      "13/13 [==============================] - 3s 260ms/step - loss: 0.1852 - accuracy: 0.9437 - val_loss: 0.1690 - val_accuracy: 0.8971\n",
      "\n",
      "Epoch 00021: val_accuracy did not improve from 0.94118\n",
      "Epoch 22/40\n",
      "13/13 [==============================] - 3s 267ms/step - loss: 0.2464 - accuracy: 0.8919 - val_loss: 0.1639 - val_accuracy: 0.9265\n",
      "\n",
      "Epoch 00022: val_accuracy did not improve from 0.94118\n",
      "Epoch 23/40\n",
      "13/13 [==============================] - 3s 264ms/step - loss: 0.2257 - accuracy: 0.9142 - val_loss: 0.1588 - val_accuracy: 0.9412\n",
      "\n",
      "Epoch 00023: val_accuracy did not improve from 0.94118\n",
      "Epoch 24/40\n",
      "13/13 [==============================] - 3s 262ms/step - loss: 0.2069 - accuracy: 0.9128 - val_loss: 0.1559 - val_accuracy: 0.9412\n",
      "\n",
      "Epoch 00024: val_accuracy did not improve from 0.94118\n",
      "Epoch 00024: early stopping\n"
     ]
    }
   ],
   "source": [
    "n_epochs = 40\n",
    "history = model.fit(train_datagen,\n",
    "                    steps_per_epoch=len(train_datagen.filenames)//training_batch_size,\n",
    "                    epochs=n_epochs,\n",
    "                    validation_data=val_datagen,\n",
    "                    validation_steps=int(np.ceil(len(val_datagen.filenames)/validation_batch_size)),\n",
    "                    callbacks=callbacks_list,\n",
    "                    verbose= 1)"
   ]
  },
  {
   "cell_type": "markdown",
   "metadata": {
    "id": "skcEjoEPHZ8p"
   },
   "source": [
    "## **Visualize the training process**"
   ]
  },
  {
   "cell_type": "code",
   "execution_count": 41,
   "metadata": {
    "colab": {
     "base_uri": "https://localhost:8080/",
     "height": 573
    },
    "executionInfo": {
     "elapsed": 1193,
     "status": "ok",
     "timestamp": 1616581942407,
     "user": {
      "displayName": "Japesh Methuku",
      "photoUrl": "https://lh3.googleusercontent.com/a-/AOh14GhIKOAgp633EafFGXJ2ysfjv6TjAjQkWNXhVWhH=s64",
      "userId": "12446060370058677993"
     },
     "user_tz": 0
    },
    "id": "jAyo6qYiuKqz",
    "outputId": "cff8a7b1-f226-4ef5-f586-019acb76a0ba"
   },
   "outputs": [
    {
     "data": {
      "image/png": "[encoded data removed]",
      "text/plain": [
       "<Figure size 1152x864 with 1 Axes>"
      ]
     },
     "metadata": {
      "needs_background": "light"
     },
     "output_type": "display_data"
    },
    {
     "data": {
      "image/png": "[encoded data removed]",
      "text/plain": [
       "<Figure size 1152x864 with 1 Axes>"
      ]
     },
     "metadata": {
      "needs_background": "light"
     },
     "output_type": "display_data"
    }
   ],
   "source": [
    "visualize_training(history, n_epochs)"
   ]
  },
  {
   "cell_type": "markdown",
   "metadata": {
    "id": "GOYPvoQwHezP"
   },
   "source": [
    "## **Load the saved model**"
   ]
  },
  {
   "cell_type": "code",
   "execution_count": 42,
   "metadata": {
    "id": "jscDXk2nD90f"
   },
   "outputs": [],
   "source": [
    "loaded_model = load_model('../models/inception-model.h5')"
   ]
  },
  {
   "cell_type": "code",
   "execution_count": 43,
   "metadata": {
    "colab": {
     "base_uri": "https://localhost:8080/"
    },
    "executionInfo": {
     "elapsed": 552,
     "status": "ok",
     "timestamp": 1616581967751,
     "user": {
      "displayName": "Japesh Methuku",
      "photoUrl": "https://lh3.googleusercontent.com/a-/AOh14GhIKOAgp633EafFGXJ2ysfjv6TjAjQkWNXhVWhH=s64",
      "userId": "12446060370058677993"
     },
     "user_tz": 0
    },
    "id": "W1GOXPbZGOoD",
    "outputId": "dc26cbd1-47fb-4396-ba52-38852400da23"
   },
   "outputs": [
    {
     "name": "stdout",
     "output_type": "stream",
     "text": [
      "Model: \"sequential\"\n",
      "_________________________________________________________________\n",
      "Layer (type)                 Output Shape              Param #   \n",
      "=================================================================\n",
      "inception_v3 (Functional)    (None, 8, 8, 2048)        21802784  \n",
      "_________________________________________________________________\n",
      "global_average_pooling2d (Gl (None, 2048)              0         \n",
      "_________________________________________________________________\n",
      "dropout (Dropout)            (None, 2048)              0         \n",
      "_________________________________________________________________\n",
      "dense (Dense)                (None, 512)               1049088   \n",
      "_________________________________________________________________\n",
      "dropout_1 (Dropout)          (None, 512)               0         \n",
      "_________________________________________________________________\n",
      "dense_1 (Dense)              (None, 256)               131328    \n",
      "_________________________________________________________________\n",
      "dense_2 (Dense)              (None, 2)                 514       \n",
      "=================================================================\n",
      "Total params: 22,983,714\n",
      "Trainable params: 12,289,282\n",
      "Non-trainable params: 10,694,432\n",
      "_________________________________________________________________\n"
     ]
    }
   ],
   "source": [
    "model.summary()"
   ]
  },
  {
   "cell_type": "markdown",
   "metadata": {
    "id": "PD81PQxgHjY3"
   },
   "source": [
    "## **Evaluate the model**"
   ]
  },
  {
   "cell_type": "code",
   "execution_count": 44,
   "metadata": {
    "colab": {
     "base_uri": "https://localhost:8080/"
    },
    "executionInfo": {
     "elapsed": 921,
     "status": "ok",
     "timestamp": 1616581972805,
     "user": {
      "displayName": "Japesh Methuku",
      "photoUrl": "https://lh3.googleusercontent.com/a-/AOh14GhIKOAgp633EafFGXJ2ysfjv6TjAjQkWNXhVWhH=s64",
      "userId": "12446060370058677993"
     },
     "user_tz": 0
    },
    "id": "ZGtKLewtvj8W",
    "outputId": "591d5ac0-2242-4fbf-eb71-fe229bbc5247"
   },
   "outputs": [
    {
     "name": "stdout",
     "output_type": "stream",
     "text": [
      "Found 220 images belonging to 2 classes.\n",
      "Found 68 images belonging to 2 classes.\n",
      "Found 56 images belonging to 2 classes.\n"
     ]
    }
   ],
   "source": [
    "_, evaluate_datagen, test_datagen = get_images(299, preprocessing= inception_v3.preprocess_input)"
   ]
  },
  {
   "cell_type": "code",
   "execution_count": 45,
   "metadata": {
    "colab": {
     "base_uri": "https://localhost:8080/"
    },
    "executionInfo": {
     "elapsed": 10954,
     "status": "ok",
     "timestamp": 1616581985013,
     "user": {
      "displayName": "Japesh Methuku",
      "photoUrl": "https://lh3.googleusercontent.com/a-/AOh14GhIKOAgp633EafFGXJ2ysfjv6TjAjQkWNXhVWhH=s64",
      "userId": "12446060370058677993"
     },
     "user_tz": 0
    },
    "id": "E9icgd-BwdFx",
    "outputId": "4357af5c-707f-4ff9-c27d-39119d45dfd9"
   },
   "outputs": [
    {
     "name": "stdout",
     "output_type": "stream",
     "text": [
      "5/5 [==============================] - 1s 45ms/step - loss: 0.1808 - accuracy: 0.9412\n"
     ]
    }
   ],
   "source": [
    "model_result = loaded_model.evaluate(\n",
    "    evaluate_datagen,\n",
    "    steps= None)"
   ]
  },
  {
   "cell_type": "code",
   "execution_count": 46,
   "metadata": {
    "colab": {
     "base_uri": "https://localhost:8080/"
    },
    "executionInfo": {
     "elapsed": 8958,
     "status": "ok",
     "timestamp": 1616581995295,
     "user": {
      "displayName": "Japesh Methuku",
      "photoUrl": "https://lh3.googleusercontent.com/a-/AOh14GhIKOAgp633EafFGXJ2ysfjv6TjAjQkWNXhVWhH=s64",
      "userId": "12446060370058677993"
     },
     "user_tz": 0
    },
    "id": "CHU7eXdcaIJA",
    "outputId": "81da13de-bbf0-4f57-db5b-e3903d879204"
   },
   "outputs": [
    {
     "name": "stdout",
     "output_type": "stream",
     "text": [
      "4/4 [==============================] - 1s 153ms/step - loss: 0.1815 - accuracy: 0.9464\n"
     ]
    }
   ],
   "source": [
    "test_report = loaded_model.evaluate(\n",
    "    test_datagen,\n",
    "    steps= None\n",
    ")"
   ]
  },
  {
   "cell_type": "markdown",
   "metadata": {
    "id": "oUGkieYQHo8R"
   },
   "source": [
    "## **Classification Report**"
   ]
  },
  {
   "cell_type": "code",
   "execution_count": 47,
   "metadata": {
    "colab": {
     "base_uri": "https://localhost:8080/"
    },
    "executionInfo": {
     "elapsed": 9647,
     "status": "ok",
     "timestamp": 1616582011651,
     "user": {
      "displayName": "Japesh Methuku",
      "photoUrl": "https://lh3.googleusercontent.com/a-/AOh14GhIKOAgp633EafFGXJ2ysfjv6TjAjQkWNXhVWhH=s64",
      "userId": "12446060370058677993"
     },
     "user_tz": 0
    },
    "id": "oAw_hvRoG8Mb",
    "outputId": "47397d7a-267a-4c87-ea7c-37901eeb05ed"
   },
   "outputs": [
    {
     "name": "stdout",
     "output_type": "stream",
     "text": [
      "              precision    recall  f1-score   support\n",
      "\n",
      "           0       0.95      0.95      0.95        39\n",
      "           1       0.93      0.93      0.93        29\n",
      "\n",
      "    accuracy                           0.94        68\n",
      "   macro avg       0.94      0.94      0.94        68\n",
      "weighted avg       0.94      0.94      0.94        68\n",
      "\n",
      "Confusion Matrix:\n",
      "  [[37  2]\n",
      " [ 2 27]]\n"
     ]
    }
   ],
   "source": [
    "print_classification_report(loaded_model, evaluate_datagen,  validation_batch_size)"
   ]
  },
  {
   "cell_type": "code",
   "execution_count": 48,
   "metadata": {
    "colab": {
     "base_uri": "https://localhost:8080/"
    },
    "executionInfo": {
     "elapsed": 7315,
     "status": "ok",
     "timestamp": 1616582019541,
     "user": {
      "displayName": "Japesh Methuku",
      "photoUrl": "https://lh3.googleusercontent.com/a-/AOh14GhIKOAgp633EafFGXJ2ysfjv6TjAjQkWNXhVWhH=s64",
      "userId": "12446060370058677993"
     },
     "user_tz": 0
    },
    "id": "RjEv7wDbac4s",
    "outputId": "bff7b304-1b51-4db7-910d-bde8f0268f67"
   },
   "outputs": [
    {
     "name": "stdout",
     "output_type": "stream",
     "text": [
      "              precision    recall  f1-score   support\n",
      "\n",
      "           0       0.94      0.97      0.95        32\n",
      "           1       0.96      0.92      0.94        24\n",
      "\n",
      "    accuracy                           0.95        56\n",
      "   macro avg       0.95      0.94      0.95        56\n",
      "weighted avg       0.95      0.95      0.95        56\n",
      "\n",
      "Confusion Matrix:\n",
      "  [[31  1]\n",
      " [ 2 22]]\n"
     ]
    }
   ],
   "source": [
    "print_classification_report(loaded_model, test_datagen, validation_batch_size)"
   ]
  },
  {
   "cell_type": "code",
   "execution_count": null,
   "metadata": {},
   "outputs": [],
   "source": []
  }
 ],
 "metadata": {
  "accelerator": "GPU",
  "colab": {
   "authorship_tag": "ABX9TyNcgkwp01ux54jkgZKzcjEf",
   "collapsed_sections": [],
   "name": "Inception_model_notebook",
   "provenance": [
    {
     "file_id": "1BItkNqKRDep1A4fDtOJjDHWoZnKi2vWu",
     "timestamp": 1616579445858
    },
    {
     "file_id": "1laZup1BgqhMMgJi_ZqM0WTjW7fJO8PN3",
     "timestamp": 1616023325275
    },
    {
     "file_id": "1pJBpRAuHKG4LtonF8h83NgfPKAuilj8R",
     "timestamp": 1613051513944
    },
    {
     "file_id": "1h3e4z8WPJV0vMyWthLaekecYjXd222ka",
     "timestamp": 1612978067028
    }
   ]
  },
  "kernelspec": {
   "display_name": "Python 3",
   "language": "python",
   "name": "python3"
  },
  "language_info": {
   "codemirror_mode": {
    "name": "ipython",
    "version": 3
   },
   "file_extension": ".py",
   "mimetype": "text/x-python",
   "name": "python",
   "nbconvert_exporter": "python",
   "pygments_lexer": "ipython3",
   "version": "3.8.5"
  }
 },
 "nbformat": 4,
 "nbformat_minor": 4
}
