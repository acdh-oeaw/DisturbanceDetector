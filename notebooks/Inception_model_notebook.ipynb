{
 "cells": [
  {
   "cell_type": "code",
   "execution_count": 1,
   "metadata": {
    "id": "At1vu_U73uBx"
   },
   "outputs": [],
   "source": [
    "import os \n",
    "from time import time\n",
    "import glob\n",
    "import numpy as np\n",
    "import pandas as pd\n",
    "import matplotlib.pyplot as plt\n",
    "from matplotlib.pyplot import imshow\n",
    "import seaborn as sns\n",
    "\n",
    "import tensorflow as tf\n",
    "from tensorflow import keras\n",
    "from tensorflow.keras import backend as K\n",
    "from tensorflow.keras.preprocessing.image import ImageDataGenerator, img_to_array, load_img\n",
    "from tensorflow.keras.layers import Input, Dense, Dropout, BatchNormalization, GlobalAveragePooling2D\n",
    "from tensorflow.keras.optimizers import SGD, Adam, Adagrad, Adadelta, RMSprop\n",
    "from tensorflow.keras import models\n",
    "from tensorflow.keras.models import Sequential, Model, load_model\n",
    "from tensorflow.keras.models import model_from_json\n",
    "from tensorflow.keras.callbacks import ReduceLROnPlateau, ModelCheckpoint, EarlyStopping\n",
    "from tensorflow.keras.initializers import glorot_uniform\n",
    "from tensorflow.keras.regularizers import l2\n",
    "from tensorflow.keras.utils import to_categorical, plot_model\n",
    "from tensorflow.keras.applications import inception_v3\n",
    "#from tensorflow.keras.applications.resnet50 import ResNet50\n",
    "#from tensorflow.keras.applications.resnet50 import preprocess_input\n",
    "from tensorflow.keras.layers.experimental import preprocessing\n",
    "\n",
    "import sklearn.metrics as metrics\n",
    "from sklearn.preprocessing import LabelBinarizer\n",
    "from sklearn.model_selection import train_test_split\n",
    "from sklearn.metrics import classification_report, accuracy_score, confusion_matrix\n",
    "\n",
    "import scipy.misc\n",
    "import cv2\n",
    "\n",
    "# import zipfile\n",
    "# import csv"
   ]
  },
  {
   "cell_type": "code",
   "execution_count": 2,
   "metadata": {
    "id": "eD1QmYLWJZWc"
   },
   "outputs": [],
   "source": [
    "from PIL import ImageFile\n",
    "ImageFile.LOAD_TRUNCATED_IMAGES = True"
   ]
  },
  {
   "cell_type": "markdown",
   "metadata": {
    "id": "OMts3IveG21y"
   },
   "source": [
    "## **Load the dataset**"
   ]
  },
  {
   "cell_type": "code",
   "execution_count": 3,
   "metadata": {
    "id": "0slwNdMNSb4P"
   },
   "outputs": [],
   "source": [
    "train_dir = '../data/training_data/'\n",
    "val_dir = '../data/validation_data/'\n",
    "test_dir = '../data/testing_data/'"
   ]
  },
  {
   "cell_type": "markdown",
   "metadata": {
    "id": "sKi2HCldG8Mb"
   },
   "source": [
    "## **Data Augmentation**"
   ]
  },
  {
   "cell_type": "code",
   "execution_count": 4,
   "metadata": {
    "id": "0oEIjURHTVMX"
   },
   "outputs": [],
   "source": [
    "training_batch_size = 16\n",
    "validation_batch_size = 16\n",
    "def get_images(img_size, preprocessing):\n",
    "\n",
    "  \n",
    "  train_datagen = ImageDataGenerator(rotation_range=20,                      horizontal_flip= True,\n",
    "                              height_shift_range=0.1,\n",
    "                              width_shift_range=0.1,\n",
    "                              shear_range=0.2,\n",
    "                              zoom_range=0.2,\n",
    "                              fill_mode=\"nearest\",\n",
    "                              preprocessing_function = preprocessing)\n",
    "  \n",
    "  datagen = ImageDataGenerator(preprocessing_function= preprocessing)\n",
    "  \n",
    "  train_datagen = train_datagen.flow_from_directory(train_dir,\n",
    "                                            batch_size= training_batch_size,\n",
    "                                            shuffle= True,\n",
    "                                            target_size = (img_size, img_size),\n",
    "                                            classes = ['Disturbed', 'Undisturbed'])\n",
    "  \n",
    "  val_datagen = datagen.flow_from_directory(val_dir,\n",
    "                                            batch_size= validation_batch_size,\n",
    "                                            shuffle= False,\n",
    "                                            target_size = (img_size, img_size),\n",
    "                                            classes = ['Disturbed', 'Undisturbed'])\n",
    "  \n",
    "  test_datagen = datagen.flow_from_directory(test_dir,\n",
    "                                            batch_size= validation_batch_size,\n",
    "                                            shuffle= False,\n",
    "                                            target_size = (img_size, img_size),\n",
    "                                            classes = ['Disturbed', 'Undisturbed'])\n",
    "  \n",
    "  return train_datagen, val_datagen, test_datagen"
   ]
  },
  {
   "cell_type": "code",
   "execution_count": 5,
   "metadata": {
    "colab": {
     "base_uri": "https://localhost:8080/"
    },
    "executionInfo": {
     "elapsed": 740,
     "status": "ok",
     "timestamp": 1616579581019,
     "user": {
      "displayName": "Japesh Methuku",
      "photoUrl": "https://lh3.googleusercontent.com/a-/AOh14GhIKOAgp633EafFGXJ2ysfjv6TjAjQkWNXhVWhH=s64",
      "userId": "12446060370058677993"
     },
     "user_tz": 0
    },
    "id": "YAWT71kX--Pq",
    "outputId": "7ffafd41-01f6-4d76-ac0e-f31f43d4221d"
   },
   "outputs": [
    {
     "name": "stdout",
     "output_type": "stream",
     "text": [
      "Found 220 images belonging to 2 classes.\n",
      "Found 68 images belonging to 2 classes.\n",
      "Found 56 images belonging to 2 classes.\n"
     ]
    }
   ],
   "source": [
    "train_datagen, val_datagen, test_datagen = get_images(299, preprocessing= inception_v3.preprocess_input)"
   ]
  },
  {
   "cell_type": "code",
   "execution_count": 6,
   "metadata": {
    "id": "z8uQ_iJQpMMv"
   },
   "outputs": [],
   "source": [
    "def visualize_training(history, epochs):\n",
    "    fig = plt.figure(figsize=(16,12))\n",
    "    plt.plot(history.history['accuracy']);\n",
    "    plt.plot(history.history['val_accuracy'])\n",
    "    plt.title(\"Model Accuracy\")\n",
    "    plt.ylabel('accuracy')\n",
    "    plt.xlabel('epoch')\n",
    "    label_1 = \"{:.2f}\".format(history.history['accuracy'][-1])\n",
    "    label_2 = \"{:.2f}\".format(history.history['val_accuracy'][-1])\n",
    "    plt.annotate(label_1, (epochs-1,history.history['accuracy'][-1]), textcoords=\"offset points\", xytext=(0,10),ha='center')\n",
    "    plt.annotate(label_2, (epochs-1,history.history['val_accuracy'][-1]), textcoords=\"offset points\", xytext=(0,10),ha='center')\n",
    "    plt.legend(['training', 'validation'], loc='upper left')\n",
    "\n",
    "    fig = plt.figure(figsize=(16,12))\n",
    "    plt.plot(history.history['loss']);\n",
    "    plt.plot(history.history['val_loss'])\n",
    "    plt.title(\"Model Loss\")\n",
    "    plt.ylabel('loss')\n",
    "    plt.xlabel('epoch')\n",
    "    label_3 = \"{:.2f}\".format(history.history['loss'][-1])\n",
    "    label_4 = \"{:.2f}\".format(history.history['val_loss'][-1])\n",
    "    plt.annotate(label_3, (epochs-1,history.history['loss'][-1]), textcoords=\"offset points\", xytext=(0,10),ha='center')\n",
    "    plt.annotate(label_4, (epochs-1,history.history['val_loss'][-1]), textcoords=\"offset points\", xytext=(0,10),ha='center')\n",
    "    plt.legend(['training', 'validation'], loc='upper left')\n",
    "    plt.show()"
   ]
  },
  {
   "cell_type": "code",
   "execution_count": 7,
   "metadata": {
    "id": "In2WtrreqQpd"
   },
   "outputs": [],
   "source": [
    "def print_classification_report(model, data_gen, batch_size):\n",
    "    true_labels = data_gen.labels\n",
    "    data_gen.reset()\n",
    "    predicted_labels = model.predict(data_gen, steps = np.ceil(len(true_labels)/batch_size))\n",
    "    #print(list( np.argmax(a) for a in predicted_labels), true_labels)\n",
    "    print(classification_report(true_labels, list( np.argmax(a) for a in predicted_labels)))\n",
    "    print(\"Confusion Matrix:\\n \",confusion_matrix(true_labels,list( np.argmax(a) for a in predicted_labels)))"
   ]
  },
  {
   "cell_type": "markdown",
   "metadata": {
    "id": "wak6fhrhHFLi"
   },
   "source": [
    "## **Build the model**"
   ]
  },
  {
   "cell_type": "code",
   "execution_count": 8,
   "metadata": {
    "id": "JpL3tPxNHNxZ"
   },
   "outputs": [],
   "source": [
    "inception_base = inception_v3.InceptionV3(weights='imagenet', include_top= False, input_shape= (299, 299, 3))"
   ]
  },
  {
   "cell_type": "code",
   "execution_count": 30,
   "metadata": {
    "colab": {
     "base_uri": "https://localhost:8080/"
    },
    "executionInfo": {
     "elapsed": 1058,
     "status": "ok",
     "timestamp": 1616579614229,
     "user": {
      "displayName": "Japesh Methuku",
      "photoUrl": "https://lh3.googleusercontent.com/a-/AOh14GhIKOAgp633EafFGXJ2ysfjv6TjAjQkWNXhVWhH=s64",
      "userId": "12446060370058677993"
     },
     "user_tz": 0
    },
    "id": "6hcwT5ROKMYO",
    "outputId": "d16ccd85-7fa6-479a-9345-de650854b528"
   },
   "outputs": [],
   "source": [
    "#inception_base.summary()"
   ]
  },
  {
   "cell_type": "code",
   "execution_count": 10,
   "metadata": {
    "colab": {
     "base_uri": "https://localhost:8080/"
    },
    "executionInfo": {
     "elapsed": 1387,
     "status": "ok",
     "timestamp": 1616579627193,
     "user": {
      "displayName": "Japesh Methuku",
      "photoUrl": "https://lh3.googleusercontent.com/a-/AOh14GhIKOAgp633EafFGXJ2ysfjv6TjAjQkWNXhVWhH=s64",
      "userId": "12446060370058677993"
     },
     "user_tz": 0
    },
    "id": "8Q6ZQJpFKSjy",
    "outputId": "20f50885-4d95-4db2-b653-4f29b4805035"
   },
   "outputs": [
    {
     "name": "stdout",
     "output_type": "stream",
     "text": [
      "Model: \"sequential\"\n",
      "_________________________________________________________________\n",
      "Layer (type)                 Output Shape              Param #   \n",
      "=================================================================\n",
      "inception_v3 (Functional)    (None, 8, 8, 2048)        21802784  \n",
      "_________________________________________________________________\n",
      "global_average_pooling2d (Gl (None, 2048)              0         \n",
      "_________________________________________________________________\n",
      "dropout (Dropout)            (None, 2048)              0         \n",
      "_________________________________________________________________\n",
      "dense (Dense)                (None, 512)               1049088   \n",
      "_________________________________________________________________\n",
      "dropout_1 (Dropout)          (None, 512)               0         \n",
      "_________________________________________________________________\n",
      "dense_1 (Dense)              (None, 256)               131328    \n",
      "_________________________________________________________________\n",
      "dense_2 (Dense)              (None, 2)                 514       \n",
      "=================================================================\n",
      "Total params: 22,983,714\n",
      "Trainable params: 22,949,282\n",
      "Non-trainable params: 34,432\n",
      "_________________________________________________________________\n"
     ]
    }
   ],
   "source": [
    "model = models.Sequential()\n",
    "model.add(inception_base)\n",
    "model.add(keras.layers.GlobalAveragePooling2D())\n",
    "#model.add(keras.layers.Dropout(0.3))\n",
    "#model.add(keras.layers.Dense(1024, activation='relu'))\n",
    "model.add(keras.layers.Dropout(0.4))\n",
    "model.add(keras.layers.Dense(512, activation='relu'))\n",
    "#model.add(keras.layers.BatchNormalization())\n",
    "model.add(keras.layers.Dropout(0.5))\n",
    "model.add(keras.layers.Dense(256, activation='relu'))\n",
    "model.add(keras.layers.Dense(2, activation= 'softmax'))\n",
    "model.summary()"
   ]
  },
  {
   "cell_type": "code",
   "execution_count": 11,
   "metadata": {
    "id": "Nx_ch2EnL3go"
   },
   "outputs": [],
   "source": [
    "inception_base.trainable = False\n",
    "inception_base.training = False"
   ]
  },
  {
   "cell_type": "code",
   "execution_count": 12,
   "metadata": {
    "colab": {
     "base_uri": "https://localhost:8080/"
    },
    "executionInfo": {
     "elapsed": 435,
     "status": "ok",
     "timestamp": 1616579630750,
     "user": {
      "displayName": "Japesh Methuku",
      "photoUrl": "https://lh3.googleusercontent.com/a-/AOh14GhIKOAgp633EafFGXJ2ysfjv6TjAjQkWNXhVWhH=s64",
      "userId": "12446060370058677993"
     },
     "user_tz": 0
    },
    "id": "4--vz1RpL6vc",
    "outputId": "61c44745-79b2-4fb2-ab1e-0c3f127d4b13"
   },
   "outputs": [
    {
     "name": "stdout",
     "output_type": "stream",
     "text": [
      "Model: \"sequential\"\n",
      "_________________________________________________________________\n",
      "Layer (type)                 Output Shape              Param #   \n",
      "=================================================================\n",
      "inception_v3 (Functional)    (None, 8, 8, 2048)        21802784  \n",
      "_________________________________________________________________\n",
      "global_average_pooling2d (Gl (None, 2048)              0         \n",
      "_________________________________________________________________\n",
      "dropout (Dropout)            (None, 2048)              0         \n",
      "_________________________________________________________________\n",
      "dense (Dense)                (None, 512)               1049088   \n",
      "_________________________________________________________________\n",
      "dropout_1 (Dropout)          (None, 512)               0         \n",
      "_________________________________________________________________\n",
      "dense_1 (Dense)              (None, 256)               131328    \n",
      "_________________________________________________________________\n",
      "dense_2 (Dense)              (None, 2)                 514       \n",
      "=================================================================\n",
      "Total params: 22,983,714\n",
      "Trainable params: 1,180,930\n",
      "Non-trainable params: 21,802,784\n",
      "_________________________________________________________________\n"
     ]
    }
   ],
   "source": [
    "model.summary()"
   ]
  },
  {
   "cell_type": "markdown",
   "metadata": {
    "id": "M1WM8nzpHOVt"
   },
   "source": [
    "## **Compile the model**"
   ]
  },
  {
   "cell_type": "code",
   "execution_count": 13,
   "metadata": {
    "id": "Bx-PL-65L-Co"
   },
   "outputs": [],
   "source": [
    "learning_rate = 1e-4\n",
    "model.compile(optimizer=keras.optimizers.SGD(lr=learning_rate, \n",
    "                                             momentum=0.9, \n",
    "                                             nesterov= False), \n",
    "              loss='categorical_crossentropy', \n",
    "              metrics=['accuracy'])"
   ]
  },
  {
   "cell_type": "code",
   "execution_count": 14,
   "metadata": {
    "id": "JE3eqVJIMIi3"
   },
   "outputs": [],
   "source": [
    "callbacks_list = [keras.callbacks.ModelCheckpoint(\n",
    "        filepath = '../models/inception-model.h5',\n",
    "        monitor = 'val_accuracy',\n",
    "        verbose=1,\n",
    "        save_best_only = True),\n",
    "        keras.callbacks.EarlyStopping(\n",
    "            monitor= 'val_accuracy',\n",
    "            patience = 6,\n",
    "            mode = 'max',\n",
    "            verbose= 1\n",
    "        )]"
   ]
  },
  {
   "cell_type": "markdown",
   "metadata": {
    "id": "ncjMo35kHU3G"
   },
   "source": [
    "## **Train the model**"
   ]
  },
  {
   "cell_type": "code",
   "execution_count": 15,
   "metadata": {
    "colab": {
     "base_uri": "https://localhost:8080/"
    },
    "executionInfo": {
     "elapsed": 232969,
     "status": "ok",
     "timestamp": 1616579880298,
     "user": {
      "displayName": "Japesh Methuku",
      "photoUrl": "https://lh3.googleusercontent.com/a-/AOh14GhIKOAgp633EafFGXJ2ysfjv6TjAjQkWNXhVWhH=s64",
      "userId": "12446060370058677993"
     },
     "user_tz": 0
    },
    "id": "x4X3vUevMO-_",
    "outputId": "037ce9c5-b7ef-4588-c769-4286b7048d25"
   },
   "outputs": [
    {
     "name": "stdout",
     "output_type": "stream",
     "text": [
      "Epoch 1/4\n",
      "13/13 [==============================] - 114s 3s/step - loss: 0.9821 - accuracy: 0.4990 - val_loss: 0.7674 - val_accuracy: 0.4412\n",
      "Epoch 2/4\n",
      "13/13 [==============================] - 3s 266ms/step - loss: 0.7703 - accuracy: 0.5511 - val_loss: 0.7723 - val_accuracy: 0.3529\n",
      "Epoch 3/4\n",
      "13/13 [==============================] - 3s 254ms/step - loss: 0.7586 - accuracy: 0.5139 - val_loss: 0.7698 - val_accuracy: 0.3971\n",
      "Epoch 4/4\n",
      "13/13 [==============================] - 4s 269ms/step - loss: 0.7403 - accuracy: 0.5540 - val_loss: 0.7458 - val_accuracy: 0.4412\n"
     ]
    }
   ],
   "source": [
    "n_epochs = 4\n",
    "history = model.fit(train_datagen,\n",
    "                    steps_per_epoch=len(train_datagen.filenames)//training_batch_size,\n",
    "                    epochs=n_epochs,\n",
    "                    validation_data=val_datagen,\n",
    "                    validation_steps = int(np.ceil(len(val_datagen.filenames)/validation_batch_size)))"
   ]
  },
  {
   "cell_type": "markdown",
   "metadata": {
    "id": "Ipig1FSjX0pi"
   },
   "source": [
    "## **Fine tune the model**"
   ]
  },
  {
   "cell_type": "code",
   "execution_count": 16,
   "metadata": {
    "id": "JImLMCS1baHm"
   },
   "outputs": [],
   "source": [
    "inception_base.trainable = True\n",
    "set_trainable = False\n",
    "for layer in inception_base.layers[:249]:\n",
    "    set_trainable = False\n",
    "    if set_trainable:\n",
    "        layer.trainable = True\n",
    "    else:\n",
    "        layer.trainable= False"
   ]
  },
  {
   "cell_type": "code",
   "execution_count": 17,
   "metadata": {
    "id": "fbEe1k5LYS9t"
   },
   "outputs": [],
   "source": [
    "for layer in inception_base.layers[249:]:\n",
    "    if isinstance(layer, keras.layers.BatchNormalization):\n",
    "        layer.trainable = False"
   ]
  },
  {
   "cell_type": "code",
   "execution_count": 18,
   "metadata": {
    "colab": {
     "base_uri": "https://localhost:8080/"
    },
    "executionInfo": {
     "elapsed": 659,
     "status": "ok",
     "timestamp": 1616579897542,
     "user": {
      "displayName": "Japesh Methuku",
      "photoUrl": "https://lh3.googleusercontent.com/a-/AOh14GhIKOAgp633EafFGXJ2ysfjv6TjAjQkWNXhVWhH=s64",
      "userId": "12446060370058677993"
     },
     "user_tz": 0
    },
    "id": "3q3WGT-0YcNQ",
    "outputId": "23d7ad7b-8703-47ee-b631-d1104bb776e3"
   },
   "outputs": [],
   "source": [
    "#for i, layer in enumerate(inception_base.layers):\n",
    "#    print(i, layer.name, layer.trainable)"
   ]
  },
  {
   "cell_type": "code",
   "execution_count": 19,
   "metadata": {
    "id": "y_O8Xa3VY1iC"
   },
   "outputs": [],
   "source": [
    "learning_rate = 1e-4\n",
    "model.compile(optimizer=keras.optimizers.SGD(lr=learning_rate, \n",
    "                                             momentum=0.9, \n",
    "                                             nesterov = False), \n",
    "              loss='categorical_crossentropy', \n",
    "              metrics=['accuracy'])"
   ]
  },
  {
   "cell_type": "code",
   "execution_count": 20,
   "metadata": {
    "colab": {
     "base_uri": "https://localhost:8080/"
    },
    "executionInfo": {
     "elapsed": 685,
     "status": "ok",
     "timestamp": 1616579911976,
     "user": {
      "displayName": "Japesh Methuku",
      "photoUrl": "https://lh3.googleusercontent.com/a-/AOh14GhIKOAgp633EafFGXJ2ysfjv6TjAjQkWNXhVWhH=s64",
      "userId": "12446060370058677993"
     },
     "user_tz": 0
    },
    "id": "VOStZbYuZuUN",
    "outputId": "635335a0-236f-4db9-cef9-4c41476026b5"
   },
   "outputs": [
    {
     "name": "stdout",
     "output_type": "stream",
     "text": [
      "Model: \"sequential\"\n",
      "_________________________________________________________________\n",
      "Layer (type)                 Output Shape              Param #   \n",
      "=================================================================\n",
      "inception_v3 (Functional)    (None, 8, 8, 2048)        21802784  \n",
      "_________________________________________________________________\n",
      "global_average_pooling2d (Gl (None, 2048)              0         \n",
      "_________________________________________________________________\n",
      "dropout (Dropout)            (None, 2048)              0         \n",
      "_________________________________________________________________\n",
      "dense (Dense)                (None, 512)               1049088   \n",
      "_________________________________________________________________\n",
      "dropout_1 (Dropout)          (None, 512)               0         \n",
      "_________________________________________________________________\n",
      "dense_1 (Dense)              (None, 256)               131328    \n",
      "_________________________________________________________________\n",
      "dense_2 (Dense)              (None, 2)                 514       \n",
      "=================================================================\n",
      "Total params: 22,983,714\n",
      "Trainable params: 12,289,282\n",
      "Non-trainable params: 10,694,432\n",
      "_________________________________________________________________\n"
     ]
    }
   ],
   "source": [
    "model.summary()"
   ]
  },
  {
   "cell_type": "code",
   "execution_count": 21,
   "metadata": {
    "colab": {
     "base_uri": "https://localhost:8080/"
    },
    "executionInfo": {
     "elapsed": 1335352,
     "status": "ok",
     "timestamp": 1616581923310,
     "user": {
      "displayName": "Japesh Methuku",
      "photoUrl": "https://lh3.googleusercontent.com/a-/AOh14GhIKOAgp633EafFGXJ2ysfjv6TjAjQkWNXhVWhH=s64",
      "userId": "12446060370058677993"
     },
     "user_tz": 0
    },
    "id": "tNuvG-wNY_rz",
    "outputId": "06413b3c-5efc-43f9-cd5f-d14062129dc3"
   },
   "outputs": [
    {
     "name": "stdout",
     "output_type": "stream",
     "text": [
      "Epoch 1/40\n",
      "13/13 [==============================] - 9s 327ms/step - loss: 0.7394 - accuracy: 0.5974 - val_loss: 0.6984 - val_accuracy: 0.5000\n",
      "\n",
      "Epoch 00001: val_accuracy improved from -inf to 0.50000, saving model to ../models/inception-model.h5\n",
      "Epoch 2/40\n",
      "13/13 [==============================] - 4s 267ms/step - loss: 0.6803 - accuracy: 0.5826 - val_loss: 0.6046 - val_accuracy: 0.7647\n",
      "\n",
      "Epoch 00002: val_accuracy improved from 0.50000 to 0.76471, saving model to ../models/inception-model.h5\n",
      "Epoch 3/40\n",
      "13/13 [==============================] - 3s 257ms/step - loss: 0.6445 - accuracy: 0.5981 - val_loss: 0.5932 - val_accuracy: 0.6765\n",
      "\n",
      "Epoch 00003: val_accuracy did not improve from 0.76471\n",
      "Epoch 4/40\n",
      "13/13 [==============================] - 3s 258ms/step - loss: 0.5963 - accuracy: 0.6672 - val_loss: 0.5188 - val_accuracy: 0.7794\n",
      "\n",
      "Epoch 00004: val_accuracy improved from 0.76471 to 0.77941, saving model to ../models/inception-model.h5\n",
      "Epoch 5/40\n",
      "13/13 [==============================] - 4s 277ms/step - loss: 0.5958 - accuracy: 0.6436 - val_loss: 0.4917 - val_accuracy: 0.7647\n",
      "\n",
      "Epoch 00005: val_accuracy did not improve from 0.77941\n",
      "Epoch 6/40\n",
      "13/13 [==============================] - 3s 258ms/step - loss: 0.4967 - accuracy: 0.7204 - val_loss: 0.4568 - val_accuracy: 0.7941\n",
      "\n",
      "Epoch 00006: val_accuracy improved from 0.77941 to 0.79412, saving model to ../models/inception-model.h5\n",
      "Epoch 7/40\n",
      "13/13 [==============================] - 3s 265ms/step - loss: 0.5074 - accuracy: 0.7640 - val_loss: 0.4304 - val_accuracy: 0.8088\n",
      "\n",
      "Epoch 00007: val_accuracy improved from 0.79412 to 0.80882, saving model to ../models/inception-model.h5\n",
      "Epoch 8/40\n",
      "13/13 [==============================] - 3s 265ms/step - loss: 0.4362 - accuracy: 0.8079 - val_loss: 0.3672 - val_accuracy: 0.8529\n",
      "\n",
      "Epoch 00008: val_accuracy improved from 0.80882 to 0.85294, saving model to ../models/inception-model.h5\n",
      "Epoch 9/40\n",
      "13/13 [==============================] - 3s 260ms/step - loss: 0.4487 - accuracy: 0.7931 - val_loss: 0.3530 - val_accuracy: 0.8529\n",
      "\n",
      "Epoch 00009: val_accuracy did not improve from 0.85294\n",
      "Epoch 10/40\n",
      "13/13 [==============================] - 3s 262ms/step - loss: 0.4130 - accuracy: 0.8377 - val_loss: 0.3370 - val_accuracy: 0.8529\n",
      "\n",
      "Epoch 00010: val_accuracy did not improve from 0.85294\n",
      "Epoch 11/40\n",
      "13/13 [==============================] - 3s 267ms/step - loss: 0.4349 - accuracy: 0.8126 - val_loss: 0.3281 - val_accuracy: 0.8676\n",
      "\n",
      "Epoch 00011: val_accuracy improved from 0.85294 to 0.86765, saving model to ../models/inception-model.h5\n",
      "Epoch 12/40\n",
      "13/13 [==============================] - 3s 253ms/step - loss: 0.4037 - accuracy: 0.8450 - val_loss: 0.2976 - val_accuracy: 0.8676\n",
      "\n",
      "Epoch 00012: val_accuracy did not improve from 0.86765\n",
      "Epoch 13/40\n",
      "13/13 [==============================] - 3s 263ms/step - loss: 0.4243 - accuracy: 0.8203 - val_loss: 0.2909 - val_accuracy: 0.8676\n",
      "\n",
      "Epoch 00013: val_accuracy did not improve from 0.86765\n",
      "Epoch 14/40\n",
      "13/13 [==============================] - 3s 260ms/step - loss: 0.3578 - accuracy: 0.8519 - val_loss: 0.2773 - val_accuracy: 0.8676\n",
      "\n",
      "Epoch 00014: val_accuracy did not improve from 0.86765\n",
      "Epoch 15/40\n",
      "13/13 [==============================] - 3s 256ms/step - loss: 0.3644 - accuracy: 0.8507 - val_loss: 0.2542 - val_accuracy: 0.8971\n",
      "\n",
      "Epoch 00015: val_accuracy improved from 0.86765 to 0.89706, saving model to ../models/inception-model.h5\n",
      "Epoch 16/40\n",
      "13/13 [==============================] - 3s 267ms/step - loss: 0.2712 - accuracy: 0.9140 - val_loss: 0.2625 - val_accuracy: 0.8824\n",
      "\n",
      "Epoch 00016: val_accuracy did not improve from 0.89706\n",
      "Epoch 17/40\n",
      "13/13 [==============================] - 3s 256ms/step - loss: 0.2606 - accuracy: 0.8994 - val_loss: 0.2181 - val_accuracy: 0.8971\n",
      "\n",
      "Epoch 00017: val_accuracy did not improve from 0.89706\n",
      "Epoch 18/40\n",
      "13/13 [==============================] - 4s 273ms/step - loss: 0.2966 - accuracy: 0.9011 - val_loss: 0.2474 - val_accuracy: 0.8971\n",
      "\n",
      "Epoch 00018: val_accuracy did not improve from 0.89706\n",
      "Epoch 19/40\n",
      "13/13 [==============================] - 3s 264ms/step - loss: 0.2277 - accuracy: 0.9031 - val_loss: 0.2065 - val_accuracy: 0.9118\n",
      "\n",
      "Epoch 00019: val_accuracy improved from 0.89706 to 0.91176, saving model to ../models/inception-model.h5\n",
      "Epoch 20/40\n",
      "13/13 [==============================] - 3s 252ms/step - loss: 0.2344 - accuracy: 0.9015 - val_loss: 0.2112 - val_accuracy: 0.9265\n",
      "\n",
      "Epoch 00020: val_accuracy improved from 0.91176 to 0.92647, saving model to ../models/inception-model.h5\n",
      "Epoch 21/40\n",
      "13/13 [==============================] - 3s 257ms/step - loss: 0.2652 - accuracy: 0.8752 - val_loss: 0.2206 - val_accuracy: 0.8971\n",
      "\n",
      "Epoch 00021: val_accuracy did not improve from 0.92647\n",
      "Epoch 22/40\n",
      "13/13 [==============================] - 3s 256ms/step - loss: 0.2475 - accuracy: 0.9187 - val_loss: 0.2014 - val_accuracy: 0.9118\n",
      "\n",
      "Epoch 00022: val_accuracy did not improve from 0.92647\n",
      "Epoch 23/40\n",
      "13/13 [==============================] - 3s 269ms/step - loss: 0.1842 - accuracy: 0.9134 - val_loss: 0.1790 - val_accuracy: 0.9118\n",
      "\n",
      "Epoch 00023: val_accuracy did not improve from 0.92647\n",
      "Epoch 24/40\n",
      "13/13 [==============================] - 3s 253ms/step - loss: 0.3067 - accuracy: 0.8983 - val_loss: 0.1985 - val_accuracy: 0.9118\n",
      "\n",
      "Epoch 00024: val_accuracy did not improve from 0.92647\n",
      "Epoch 25/40\n",
      "13/13 [==============================] - 3s 267ms/step - loss: 0.2401 - accuracy: 0.9236 - val_loss: 0.1797 - val_accuracy: 0.9118\n",
      "\n",
      "Epoch 00025: val_accuracy did not improve from 0.92647\n",
      "Epoch 26/40\n",
      "13/13 [==============================] - 3s 254ms/step - loss: 0.2885 - accuracy: 0.8712 - val_loss: 0.1720 - val_accuracy: 0.8971\n",
      "\n",
      "Epoch 00026: val_accuracy did not improve from 0.92647\n",
      "Epoch 00026: early stopping\n"
     ]
    }
   ],
   "source": [
    "n_epochs = 40\n",
    "history = model.fit(train_datagen,\n",
    "                    steps_per_epoch=len(train_datagen.filenames)//training_batch_size,\n",
    "                    epochs=n_epochs,\n",
    "                    validation_data=val_datagen,\n",
    "                    validation_steps=int(np.ceil(len(val_datagen.filenames)/validation_batch_size)),\n",
    "                    callbacks=callbacks_list,\n",
    "                    verbose= 1)"
   ]
  },
  {
   "cell_type": "markdown",
   "metadata": {
    "id": "skcEjoEPHZ8p"
   },
   "source": [
    "## **Visualize the training process**"
   ]
  },
  {
   "cell_type": "code",
   "execution_count": 22,
   "metadata": {
    "colab": {
     "base_uri": "https://localhost:8080/",
     "height": 573
    },
    "executionInfo": {
     "elapsed": 1193,
     "status": "ok",
     "timestamp": 1616581942407,
     "user": {
      "displayName": "Japesh Methuku",
      "photoUrl": "https://lh3.googleusercontent.com/a-/AOh14GhIKOAgp633EafFGXJ2ysfjv6TjAjQkWNXhVWhH=s64",
      "userId": "12446060370058677993"
     },
     "user_tz": 0
    },
    "id": "jAyo6qYiuKqz",
    "outputId": "cff8a7b1-f226-4ef5-f586-019acb76a0ba"
   },
   "outputs": [
    {
     "data": {
      "image/png": "[encoded data removed]",
      "text/plain": [
       "<Figure size 1152x864 with 1 Axes>"
      ]
     },
     "metadata": {
      "needs_background": "light"
     },
     "output_type": "display_data"
    },
    {
     "data": {
      "image/png": "[encoded data removed]",
      "text/plain": [
       "<Figure size 1152x864 with 1 Axes>"
      ]
     },
     "metadata": {
      "needs_background": "light"
     },
     "output_type": "display_data"
    }
   ],
   "source": [
    "visualize_training(history, n_epochs)"
   ]
  },
  {
   "cell_type": "markdown",
   "metadata": {
    "id": "GOYPvoQwHezP"
   },
   "source": [
    "## **Load the saved model**"
   ]
  },
  {
   "cell_type": "code",
   "execution_count": 23,
   "metadata": {
    "id": "jscDXk2nD90f"
   },
   "outputs": [],
   "source": [
    "loaded_model = load_model('../models/inception-model.h5')"
   ]
  },
  {
   "cell_type": "code",
   "execution_count": 24,
   "metadata": {
    "colab": {
     "base_uri": "https://localhost:8080/"
    },
    "executionInfo": {
     "elapsed": 552,
     "status": "ok",
     "timestamp": 1616581967751,
     "user": {
      "displayName": "Japesh Methuku",
      "photoUrl": "https://lh3.googleusercontent.com/a-/AOh14GhIKOAgp633EafFGXJ2ysfjv6TjAjQkWNXhVWhH=s64",
      "userId": "12446060370058677993"
     },
     "user_tz": 0
    },
    "id": "W1GOXPbZGOoD",
    "outputId": "dc26cbd1-47fb-4396-ba52-38852400da23"
   },
   "outputs": [
    {
     "name": "stdout",
     "output_type": "stream",
     "text": [
      "Model: \"sequential\"\n",
      "_________________________________________________________________\n",
      "Layer (type)                 Output Shape              Param #   \n",
      "=================================================================\n",
      "inception_v3 (Functional)    (None, 8, 8, 2048)        21802784  \n",
      "_________________________________________________________________\n",
      "global_average_pooling2d (Gl (None, 2048)              0         \n",
      "_________________________________________________________________\n",
      "dropout (Dropout)            (None, 2048)              0         \n",
      "_________________________________________________________________\n",
      "dense (Dense)                (None, 512)               1049088   \n",
      "_________________________________________________________________\n",
      "dropout_1 (Dropout)          (None, 512)               0         \n",
      "_________________________________________________________________\n",
      "dense_1 (Dense)              (None, 256)               131328    \n",
      "_________________________________________________________________\n",
      "dense_2 (Dense)              (None, 2)                 514       \n",
      "=================================================================\n",
      "Total params: 22,983,714\n",
      "Trainable params: 12,289,282\n",
      "Non-trainable params: 10,694,432\n",
      "_________________________________________________________________\n"
     ]
    }
   ],
   "source": [
    "model.summary()"
   ]
  },
  {
   "cell_type": "markdown",
   "metadata": {
    "id": "PD81PQxgHjY3"
   },
   "source": [
    "## **Evaluate the model**"
   ]
  },
  {
   "cell_type": "code",
   "execution_count": 25,
   "metadata": {
    "colab": {
     "base_uri": "https://localhost:8080/"
    },
    "executionInfo": {
     "elapsed": 921,
     "status": "ok",
     "timestamp": 1616581972805,
     "user": {
      "displayName": "Japesh Methuku",
      "photoUrl": "https://lh3.googleusercontent.com/a-/AOh14GhIKOAgp633EafFGXJ2ysfjv6TjAjQkWNXhVWhH=s64",
      "userId": "12446060370058677993"
     },
     "user_tz": 0
    },
    "id": "ZGtKLewtvj8W",
    "outputId": "591d5ac0-2242-4fbf-eb71-fe229bbc5247"
   },
   "outputs": [
    {
     "name": "stdout",
     "output_type": "stream",
     "text": [
      "Found 220 images belonging to 2 classes.\n",
      "Found 68 images belonging to 2 classes.\n",
      "Found 56 images belonging to 2 classes.\n"
     ]
    }
   ],
   "source": [
    "_, evaluate_datagen, test_datagen = get_images(299, preprocessing= inception_v3.preprocess_input)"
   ]
  },
  {
   "cell_type": "code",
   "execution_count": 26,
   "metadata": {
    "colab": {
     "base_uri": "https://localhost:8080/"
    },
    "executionInfo": {
     "elapsed": 10954,
     "status": "ok",
     "timestamp": 1616581985013,
     "user": {
      "displayName": "Japesh Methuku",
      "photoUrl": "https://lh3.googleusercontent.com/a-/AOh14GhIKOAgp633EafFGXJ2ysfjv6TjAjQkWNXhVWhH=s64",
      "userId": "12446060370058677993"
     },
     "user_tz": 0
    },
    "id": "E9icgd-BwdFx",
    "outputId": "4357af5c-707f-4ff9-c27d-39119d45dfd9"
   },
   "outputs": [
    {
     "name": "stdout",
     "output_type": "stream",
     "text": [
      "5/5 [==============================] - 1s 47ms/step - loss: 0.2112 - accuracy: 0.9265\n"
     ]
    }
   ],
   "source": [
    "model_result = loaded_model.evaluate(evaluate_datagen, steps= None)"
   ]
  },
  {
   "cell_type": "code",
   "execution_count": 27,
   "metadata": {
    "colab": {
     "base_uri": "https://localhost:8080/"
    },
    "executionInfo": {
     "elapsed": 8958,
     "status": "ok",
     "timestamp": 1616581995295,
     "user": {
      "displayName": "Japesh Methuku",
      "photoUrl": "https://lh3.googleusercontent.com/a-/AOh14GhIKOAgp633EafFGXJ2ysfjv6TjAjQkWNXhVWhH=s64",
      "userId": "12446060370058677993"
     },
     "user_tz": 0
    },
    "id": "CHU7eXdcaIJA",
    "outputId": "81da13de-bbf0-4f57-db5b-e3903d879204"
   },
   "outputs": [
    {
     "name": "stdout",
     "output_type": "stream",
     "text": [
      "4/4 [==============================] - 5s 2s/step - loss: 0.2148 - accuracy: 0.8929\n"
     ]
    }
   ],
   "source": [
    "test_report = loaded_model.evaluate(test_datagen, steps= None)"
   ]
  },
  {
   "cell_type": "markdown",
   "metadata": {
    "id": "oUGkieYQHo8R"
   },
   "source": [
    "## **Classification Report**"
   ]
  },
  {
   "cell_type": "code",
   "execution_count": 28,
   "metadata": {
    "colab": {
     "base_uri": "https://localhost:8080/"
    },
    "executionInfo": {
     "elapsed": 9647,
     "status": "ok",
     "timestamp": 1616582011651,
     "user": {
      "displayName": "Japesh Methuku",
      "photoUrl": "https://lh3.googleusercontent.com/a-/AOh14GhIKOAgp633EafFGXJ2ysfjv6TjAjQkWNXhVWhH=s64",
      "userId": "12446060370058677993"
     },
     "user_tz": 0
    },
    "id": "oAw_hvRoG8Mb",
    "outputId": "47397d7a-267a-4c87-ea7c-37901eeb05ed"
   },
   "outputs": [
    {
     "name": "stdout",
     "output_type": "stream",
     "text": [
      "              precision    recall  f1-score   support\n",
      "\n",
      "           0       0.97      0.90      0.93        39\n",
      "           1       0.88      0.97      0.92        29\n",
      "\n",
      "    accuracy                           0.93        68\n",
      "   macro avg       0.92      0.93      0.93        68\n",
      "weighted avg       0.93      0.93      0.93        68\n",
      "\n",
      "Confusion Matrix:\n",
      "  [[35  4]\n",
      " [ 1 28]]\n"
     ]
    }
   ],
   "source": [
    "print_classification_report(loaded_model, evaluate_datagen,  validation_batch_size)"
   ]
  },
  {
   "cell_type": "code",
   "execution_count": 29,
   "metadata": {
    "colab": {
     "base_uri": "https://localhost:8080/"
    },
    "executionInfo": {
     "elapsed": 7315,
     "status": "ok",
     "timestamp": 1616582019541,
     "user": {
      "displayName": "Japesh Methuku",
      "photoUrl": "https://lh3.googleusercontent.com/a-/AOh14GhIKOAgp633EafFGXJ2ysfjv6TjAjQkWNXhVWhH=s64",
      "userId": "12446060370058677993"
     },
     "user_tz": 0
    },
    "id": "RjEv7wDbac4s",
    "outputId": "bff7b304-1b51-4db7-910d-bde8f0268f67"
   },
   "outputs": [
    {
     "name": "stdout",
     "output_type": "stream",
     "text": [
      "              precision    recall  f1-score   support\n",
      "\n",
      "           0       0.91      0.91      0.91        32\n",
      "           1       0.88      0.88      0.88        24\n",
      "\n",
      "    accuracy                           0.89        56\n",
      "   macro avg       0.89      0.89      0.89        56\n",
      "weighted avg       0.89      0.89      0.89        56\n",
      "\n",
      "Confusion Matrix:\n",
      "  [[29  3]\n",
      " [ 3 21]]\n"
     ]
    }
   ],
   "source": [
    "print_classification_report(loaded_model, test_datagen, validation_batch_size)"
   ]
  },
  {
   "cell_type": "code",
   "execution_count": null,
   "metadata": {},
   "outputs": [],
   "source": []
  }
 ],
 "metadata": {
  "accelerator": "GPU",
  "colab": {
   "authorship_tag": "ABX9TyNcgkwp01ux54jkgZKzcjEf",
   "collapsed_sections": [],
   "name": "Inception_model_notebook",
   "provenance": [
    {
     "file_id": "1BItkNqKRDep1A4fDtOJjDHWoZnKi2vWu",
     "timestamp": 1616579445858
    },
    {
     "file_id": "1laZup1BgqhMMgJi_ZqM0WTjW7fJO8PN3",
     "timestamp": 1616023325275
    },
    {
     "file_id": "1pJBpRAuHKG4LtonF8h83NgfPKAuilj8R",
     "timestamp": 1613051513944
    },
    {
     "file_id": "1h3e4z8WPJV0vMyWthLaekecYjXd222ka",
     "timestamp": 1612978067028
    }
   ]
  },
  "kernelspec": {
   "display_name": "Python 3",
   "language": "python",
   "name": "python3"
  },
  "language_info": {
   "codemirror_mode": {
    "name": "ipython",
    "version": 3
   },
   "file_extension": ".py",
   "mimetype": "text/x-python",
   "name": "python",
   "nbconvert_exporter": "python",
   "pygments_lexer": "ipython3",
   "version": "3.8.5"
  }
 },
 "nbformat": 4,
 "nbformat_minor": 4
}
